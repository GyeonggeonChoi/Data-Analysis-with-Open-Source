{
  "nbformat": 4,
  "nbformat_minor": 0,
  "metadata": {
    "colab": {
      "provenance": [],
      "include_colab_link": true
    },
    "kernelspec": {
      "name": "python3",
      "display_name": "Python 3"
    },
    "language_info": {
      "name": "python"
    }
  },
  "cells": [
    {
      "cell_type": "markdown",
      "metadata": {
        "id": "view-in-github",
        "colab_type": "text"
      },
      "source": [
        "<a href=\"https://colab.research.google.com/github/GyeonggeonChoi/Data-Analysis-with-Open-Source/blob/main/%EC%98%A4%ED%94%88%EC%86%8C%EC%8A%A4_%EB%8D%B0%EC%9D%B4%ED%84%B0_%EB%B6%84%EC%84%9D_4%EA%B0%95.ipynb\" target=\"_parent\"><img src=\"https://colab.research.google.com/assets/colab-badge.svg\" alt=\"Open In Colab\"/></a>"
      ]
    },
    {
      "cell_type": "markdown",
      "source": [
        "\n",
        "\n",
        "# 오픈소스 기반 데이터 분석 4강 - 데이터 수집\n"
      ],
      "metadata": {
        "id": "DkPKaAsoRq5Q"
      }
    },
    {
      "cell_type": "markdown",
      "source": [
        "## 4-1 CSV 파일 읽기"
      ],
      "metadata": {
        "id": "-I7BVVlnRrB0"
      }
    },
    {
      "cell_type": "code",
      "source": [
        "import pandas as pd\n",
        "\n",
        "## data.csv 파일 읽기\n",
        "df = pd.read_csv('data.csv', encoding='utf-8', sep=',', header=0, index_col=None, skiprows=None, nrows=None)\n",
        "\n",
        "print(df)"
      ],
      "metadata": {
        "id": "2Y2HEiaiRwAI",
        "outputId": "6cac922d-fff0-4b65-fb75-8c21ae7f37be",
        "colab": {
          "base_uri": "https://localhost:8080/"
        }
      },
      "execution_count": null,
      "outputs": [
        {
          "output_type": "stream",
          "name": "stdout",
          "text": [
            "           날짜    체중  골격근량  체지방량\n",
            "0  2025.02.06  64.7  30.0  11.1\n",
            "1  2025.02.04  64.0  29.3  11.6\n"
          ]
        }
      ]
    },
    {
      "cell_type": "markdown",
      "source": [
        "## 4-2 JSON 파일 읽기\n",
        "\n"
      ],
      "metadata": {
        "id": "9kHCFaGlRrE0"
      }
    },
    {
      "cell_type": "code",
      "source": [
        "import json\n",
        "import pandas as pd\n",
        "\n",
        "## data.json 파일 출력\n",
        "with open('data.json', mode='r', encoding='utf-8') as f:\n",
        "    data = json.load(f)\n",
        "print(data)\n",
        "## data.json 파일 DataFrame 읽기\n",
        "df = pd.read_json('data.json', orient='records', encoding='utf-8', lines=False)\n",
        "print(df)"
      ],
      "metadata": {
        "id": "IO8bsKekR0W_",
        "outputId": "1b590fc4-ad38-43d3-f004-1b652817714f",
        "colab": {
          "base_uri": "https://localhost:8080/"
        }
      },
      "execution_count": null,
      "outputs": [
        {
          "output_type": "stream",
          "name": "stdout",
          "text": [
            "{'매출데이터': [{'월': '2025-01', '매출액': 1000000, '비용': 700000, '이익': 300000}, {'월': '2025-02', '매출액': 1200000, '비용': 800000, '이익': 400000}, {'월': '2025-03', '매출액': 1500000, '비용': 900000, '이익': 600000}]}\n",
            "                                               매출데이터\n",
            "0  {'월': '2025-01', '매출액': 1000000, '비용': 700000,...\n",
            "1  {'월': '2025-02', '매출액': 1200000, '비용': 800000,...\n",
            "2  {'월': '2025-03', '매출액': 1500000, '비용': 900000,...\n"
          ]
        }
      ]
    },
    {
      "cell_type": "markdown",
      "source": [
        "## 4-3 텍스트 파일 읽기 및 데이터 추출"
      ],
      "metadata": {
        "id": "uLd_3A_IRrHG"
      }
    },
    {
      "cell_type": "code",
      "source": [
        "import re\n",
        "\n",
        "## 파일(callcenter20250301.log) 오픈 및 읽기\n",
        "with open('callcenter20250301.log', 'r', encoding='utf-8') as f:\n",
        "    content = f.read()\n",
        "## 주민등록번호 패턴 생성\n",
        "pattern = re.compile(r'(\\d{6})-(\\d{7})')\n",
        "\n",
        "## 주민등록번호 마스킹\n",
        "masked_content = pattern.sub(r'\\1-*******', content)\n",
        "\n",
        "## 마스킹된 파일(callcenter20250301_masked.log) 오픈 및 쓰기\n",
        "with open('callcenter20250301_masked.log', mode='w') as f:\n",
        "    f.write(masked_content)\n",
        "\n",
        "print(\"주민등록번호 마스킹 완료. 'callcenter20250301_masked.log.txt' 파일로 저장되었습니다.\")"
      ],
      "metadata": {
        "id": "60qOf7uxVdAg",
        "outputId": "3814fec1-880d-4df5-d63f-d8b5ad873fd2",
        "colab": {
          "base_uri": "https://localhost:8080/"
        }
      },
      "execution_count": null,
      "outputs": [
        {
          "output_type": "stream",
          "name": "stdout",
          "text": [
            "주민등록번호 마스킹 완료. 'callcenter20250301_masked.log.txt' 파일로 저장되었습니다.\n"
          ]
        }
      ]
    },
    {
      "cell_type": "markdown",
      "source": [
        "## 4-4 Open-Meteo의 무료 날씨 API를 통한 특정 지역 온도 조회"
      ],
      "metadata": {
        "id": "eOMufu5SXiAU"
      }
    },
    {
      "cell_type": "code",
      "source": [
        "import requests\n",
        "import json\n",
        "\n",
        "url = \"https://api.open-meteo.com/v1/forecast?=&=&current=temperature_2m\"\n",
        "params = {\n",
        "    \"latitude\": \"37.58638333\",\n",
        "    \"longitude\": \"127.0203333\",\n",
        "    \"current\": \"temperature_2m\"\n",
        "}\n",
        "\n",
        "try:\n",
        "    ## URL 및 파라미터 전송\n",
        "    response = requests.get(url, params=params)\n",
        "    response.raise_for_status()\n",
        "\n",
        "    ## JSON 데이터 읽기\n",
        "    data = response.json()\n",
        "\n",
        "\n",
        "    print(\"API 응답:\", data)\n",
        "    print(\"서울시 종로구의 현재 온도는 : {0}{1} 입니다.\".format(data['current']['temperature_2m'], data['current_units']['temperature_2m']))\n",
        "\n",
        "except requests.exceptions.RequestException as e:\n",
        "    print(f\"API 호출 실패: {e}\")\n",
        "except json.JSONDecodeError as e:\n",
        "    print(f\"JSON 파싱 실패: {e}\")"
      ],
      "metadata": {
        "id": "JpmgdsW9V0CY",
        "outputId": "a207f0ab-05e1-4929-da07-b1b1d42eaa59",
        "colab": {
          "base_uri": "https://localhost:8080/"
        }
      },
      "execution_count": null,
      "outputs": [
        {
          "output_type": "stream",
          "name": "stdout",
          "text": [
            "API 응답: {'latitude': 37.6, 'longitude': 127.0, 'generationtime_ms': 0.02002716064453125, 'utc_offset_seconds': 0, 'timezone': 'GMT', 'timezone_abbreviation': 'GMT', 'elevation': 29.0, 'current_units': {'time': 'iso8601', 'interval': 'seconds', 'temperature_2m': '°C'}, 'current': {'time': '2025-09-16T14:15', 'interval': 900, 'temperature_2m': 23.6}}\n",
            "서울시 종로구의 현재 온도는 : 23.6°C 입니다.\n"
          ]
        }
      ]
    },
    {
      "cell_type": "markdown",
      "source": [
        "## 4-5 Selenium과 lxml을 이용한 웹 스크래핑"
      ],
      "metadata": {
        "id": "RLfPaa1ZiqIC"
      }
    },
    {
      "cell_type": "code",
      "source": [
        "!curl -o google-chrome-stable_current_amd64.deb https://dl.google.com/linux/direct/google-chrome-stable_current_amd64.deb\n",
        "!apt install ./google-chrome-stable_current_amd64.deb -y\n",
        "!pip install selenium webdriver_manager"
      ],
      "metadata": {
        "id": "79dmM7MNk8pB",
        "outputId": "238f07a0-86ca-46a3-c42a-daa15bbba707",
        "colab": {
          "base_uri": "https://localhost:8080/"
        }
      },
      "execution_count": null,
      "outputs": [
        {
          "output_type": "stream",
          "name": "stdout",
          "text": [
            "  % Total    % Received % Xferd  Average Speed   Time    Time     Time  Current\n",
            "                                 Dload  Upload   Total   Spent    Left  Speed\n",
            "100  115M  100  115M    0     0   296M      0 --:--:-- --:--:-- --:--:--  297M\n",
            "Reading package lists... Done\n",
            "Building dependency tree... Done\n",
            "Reading state information... Done\n",
            "Note, selecting 'google-chrome-stable' instead of './google-chrome-stable_current_amd64.deb'\n",
            "The following additional packages will be installed:\n",
            "  libvulkan1 mesa-vulkan-drivers\n",
            "The following NEW packages will be installed:\n",
            "  google-chrome-stable libvulkan1 mesa-vulkan-drivers\n",
            "0 upgraded, 3 newly installed, 0 to remove and 35 not upgraded.\n",
            "Need to get 10.9 MB/132 MB of archives.\n",
            "After this operation, 447 MB of additional disk space will be used.\n",
            "Get:1 http://archive.ubuntu.com/ubuntu jammy/main amd64 libvulkan1 amd64 1.3.204.1-2 [128 kB]\n",
            "Get:2 http://archive.ubuntu.com/ubuntu jammy-updates/main amd64 mesa-vulkan-drivers amd64 23.2.1-1ubuntu3.1~22.04.3 [10.7 MB]\n",
            "Get:3 /content/google-chrome-stable_current_amd64.deb google-chrome-stable amd64 140.0.7339.185-1 [121 MB]\n",
            "Fetched 10.9 MB in 2s (5,470 kB/s)\n",
            "Selecting previously unselected package libvulkan1:amd64.\n",
            "(Reading database ... 126435 files and directories currently installed.)\n",
            "Preparing to unpack .../libvulkan1_1.3.204.1-2_amd64.deb ...\n",
            "Unpacking libvulkan1:amd64 (1.3.204.1-2) ...\n",
            "Selecting previously unselected package google-chrome-stable.\n",
            "Preparing to unpack .../google-chrome-stable_current_amd64.deb ...\n",
            "Unpacking google-chrome-stable (140.0.7339.185-1) ...\n",
            "Selecting previously unselected package mesa-vulkan-drivers:amd64.\n",
            "Preparing to unpack .../mesa-vulkan-drivers_23.2.1-1ubuntu3.1~22.04.3_amd64.deb ...\n",
            "Unpacking mesa-vulkan-drivers:amd64 (23.2.1-1ubuntu3.1~22.04.3) ...\n",
            "Setting up libvulkan1:amd64 (1.3.204.1-2) ...\n",
            "Setting up mesa-vulkan-drivers:amd64 (23.2.1-1ubuntu3.1~22.04.3) ...\n",
            "Setting up google-chrome-stable (140.0.7339.185-1) ...\n",
            "update-alternatives: using /usr/bin/google-chrome-stable to provide /usr/bin/x-www-browser (x-www-browser) in auto mode\n",
            "update-alternatives: using /usr/bin/google-chrome-stable to provide /usr/bin/gnome-www-browser (gnome-www-browser) in auto mode\n",
            "update-alternatives: using /usr/bin/google-chrome-stable to provide /usr/bin/google-chrome (google-chrome) in auto mode\n",
            "Processing triggers for man-db (2.10.2-1) ...\n",
            "Processing triggers for mailcap (3.70+nmu1ubuntu1) ...\n",
            "Processing triggers for libc-bin (2.35-0ubuntu3.8) ...\n",
            "/sbin/ldconfig.real: /usr/local/lib/libtcm_debug.so.1 is not a symbolic link\n",
            "\n",
            "/sbin/ldconfig.real: /usr/local/lib/libhwloc.so.15 is not a symbolic link\n",
            "\n",
            "/sbin/ldconfig.real: /usr/local/lib/libtbbmalloc.so.2 is not a symbolic link\n",
            "\n",
            "/sbin/ldconfig.real: /usr/local/lib/libumf.so.0 is not a symbolic link\n",
            "\n",
            "/sbin/ldconfig.real: /usr/local/lib/libtbbbind_2_0.so.3 is not a symbolic link\n",
            "\n",
            "/sbin/ldconfig.real: /usr/local/lib/libtbbbind.so.3 is not a symbolic link\n",
            "\n",
            "/sbin/ldconfig.real: /usr/local/lib/libur_adapter_level_zero.so.0 is not a symbolic link\n",
            "\n",
            "/sbin/ldconfig.real: /usr/local/lib/libtbb.so.12 is not a symbolic link\n",
            "\n",
            "/sbin/ldconfig.real: /usr/local/lib/libur_adapter_opencl.so.0 is not a symbolic link\n",
            "\n",
            "/sbin/ldconfig.real: /usr/local/lib/libtbbbind_2_5.so.3 is not a symbolic link\n",
            "\n",
            "/sbin/ldconfig.real: /usr/local/lib/libtcm.so.1 is not a symbolic link\n",
            "\n",
            "/sbin/ldconfig.real: /usr/local/lib/libtbbmalloc_proxy.so.2 is not a symbolic link\n",
            "\n",
            "/sbin/ldconfig.real: /usr/local/lib/libur_adapter_level_zero_v2.so.0 is not a symbolic link\n",
            "\n",
            "/sbin/ldconfig.real: /usr/local/lib/libur_loader.so.0 is not a symbolic link\n",
            "\n",
            "Collecting selenium\n",
            "  Downloading selenium-4.35.0-py3-none-any.whl.metadata (7.4 kB)\n",
            "Collecting webdriver_manager\n",
            "  Downloading webdriver_manager-4.0.2-py2.py3-none-any.whl.metadata (12 kB)\n",
            "Requirement already satisfied: urllib3<3.0,>=2.5.0 in /usr/local/lib/python3.12/dist-packages (from urllib3[socks]<3.0,>=2.5.0->selenium) (2.5.0)\n",
            "Collecting trio~=0.30.0 (from selenium)\n",
            "  Downloading trio-0.30.0-py3-none-any.whl.metadata (8.5 kB)\n",
            "Collecting trio-websocket~=0.12.2 (from selenium)\n",
            "  Downloading trio_websocket-0.12.2-py3-none-any.whl.metadata (5.1 kB)\n",
            "Requirement already satisfied: certifi>=2025.6.15 in /usr/local/lib/python3.12/dist-packages (from selenium) (2025.8.3)\n",
            "Collecting typing_extensions~=4.14.0 (from selenium)\n",
            "  Downloading typing_extensions-4.14.1-py3-none-any.whl.metadata (3.0 kB)\n",
            "Requirement already satisfied: websocket-client~=1.8.0 in /usr/local/lib/python3.12/dist-packages (from selenium) (1.8.0)\n",
            "Requirement already satisfied: requests in /usr/local/lib/python3.12/dist-packages (from webdriver_manager) (2.32.4)\n",
            "Requirement already satisfied: python-dotenv in /usr/local/lib/python3.12/dist-packages (from webdriver_manager) (1.1.1)\n",
            "Requirement already satisfied: packaging in /usr/local/lib/python3.12/dist-packages (from webdriver_manager) (25.0)\n",
            "Requirement already satisfied: attrs>=23.2.0 in /usr/local/lib/python3.12/dist-packages (from trio~=0.30.0->selenium) (25.3.0)\n",
            "Requirement already satisfied: sortedcontainers in /usr/local/lib/python3.12/dist-packages (from trio~=0.30.0->selenium) (2.4.0)\n",
            "Requirement already satisfied: idna in /usr/local/lib/python3.12/dist-packages (from trio~=0.30.0->selenium) (3.10)\n",
            "Collecting outcome (from trio~=0.30.0->selenium)\n",
            "  Downloading outcome-1.3.0.post0-py2.py3-none-any.whl.metadata (2.6 kB)\n",
            "Requirement already satisfied: sniffio>=1.3.0 in /usr/local/lib/python3.12/dist-packages (from trio~=0.30.0->selenium) (1.3.1)\n",
            "Collecting wsproto>=0.14 (from trio-websocket~=0.12.2->selenium)\n",
            "  Downloading wsproto-1.2.0-py3-none-any.whl.metadata (5.6 kB)\n",
            "Requirement already satisfied: pysocks!=1.5.7,<2.0,>=1.5.6 in /usr/local/lib/python3.12/dist-packages (from urllib3[socks]<3.0,>=2.5.0->selenium) (1.7.1)\n",
            "Requirement already satisfied: charset_normalizer<4,>=2 in /usr/local/lib/python3.12/dist-packages (from requests->webdriver_manager) (3.4.3)\n",
            "Requirement already satisfied: h11<1,>=0.9.0 in /usr/local/lib/python3.12/dist-packages (from wsproto>=0.14->trio-websocket~=0.12.2->selenium) (0.16.0)\n",
            "Downloading selenium-4.35.0-py3-none-any.whl (9.6 MB)\n",
            "\u001b[2K   \u001b[90m━━━━━━━━━━━━━━━━━━━━━━━━━━━━━━━━━━━━━━━━\u001b[0m \u001b[32m9.6/9.6 MB\u001b[0m \u001b[31m74.3 MB/s\u001b[0m eta \u001b[36m0:00:00\u001b[0m\n",
            "\u001b[?25hDownloading webdriver_manager-4.0.2-py2.py3-none-any.whl (27 kB)\n",
            "Downloading trio-0.30.0-py3-none-any.whl (499 kB)\n",
            "\u001b[2K   \u001b[90m━━━━━━━━━━━━━━━━━━━━━━━━━━━━━━━━━━━━━━━━\u001b[0m \u001b[32m499.2/499.2 kB\u001b[0m \u001b[31m27.7 MB/s\u001b[0m eta \u001b[36m0:00:00\u001b[0m\n",
            "\u001b[?25hDownloading trio_websocket-0.12.2-py3-none-any.whl (21 kB)\n",
            "Downloading typing_extensions-4.14.1-py3-none-any.whl (43 kB)\n",
            "\u001b[2K   \u001b[90m━━━━━━━━━━━━━━━━━━━━━━━━━━━━━━━━━━━━━━━━\u001b[0m \u001b[32m43.9/43.9 kB\u001b[0m \u001b[31m2.6 MB/s\u001b[0m eta \u001b[36m0:00:00\u001b[0m\n",
            "\u001b[?25hDownloading outcome-1.3.0.post0-py2.py3-none-any.whl (10 kB)\n",
            "Downloading wsproto-1.2.0-py3-none-any.whl (24 kB)\n",
            "Installing collected packages: wsproto, typing_extensions, outcome, webdriver_manager, trio, trio-websocket, selenium\n",
            "  Attempting uninstall: typing_extensions\n",
            "    Found existing installation: typing_extensions 4.15.0\n",
            "    Uninstalling typing_extensions-4.15.0:\n",
            "      Successfully uninstalled typing_extensions-4.15.0\n",
            "Successfully installed outcome-1.3.0.post0 selenium-4.35.0 trio-0.30.0 trio-websocket-0.12.2 typing_extensions-4.14.1 webdriver_manager-4.0.2 wsproto-1.2.0\n"
          ]
        }
      ]
    },
    {
      "cell_type": "code",
      "source": [
        "from selenium import webdriver\n",
        "from selenium.webdriver.chrome.service import Service as ChromeService\n",
        "from webdriver_manager.chrome import ChromeDriverManager\n",
        "from selenium.webdriver.common.by import By\n",
        "from lxml import html\n",
        "import time\n",
        "\n",
        "chrome_options = webdriver.ChromeOptions()\n",
        "chrome_options.add_argument('--headless')               # 브라우저 창 없이 실행\n",
        "chrome_options.add_argument('--no-sandbox')             # 보안모드 비활성화 (Colab 필수)\n",
        "chrome_options.add_argument('--disable-dev-shm-usage')  # 메모리 부족 방지 (Colab 필수)\n",
        "chrome_options.add_argument('--window-size=1920x1080')  # 창 크기 설정(가상)\n",
        "chrome_options.add_argument('--disable-gpu')            # GPU 가속 비활성화 (일부 환경 안정성)\n",
        "chrome_options.binary_location = \"/usr/bin/google-chrome-stable\"  # Colab용 크롬 경로 지정\n",
        "\n",
        "## 드라이버 실행\n",
        "driver = webdriver.Chrome(options=chrome_options)\n",
        "\n",
        "## 사이트 접속\n",
        "url = 'https://professor.knou.ac.kr/jaehwachung/index.do'\n",
        "driver.get(url)\n",
        "\n",
        "## 사이트 접속 대기\n",
        "time.sleep(2)\n",
        "\n",
        "## 페이지 제목 출력\n",
        "page_source = driver.page_source\n",
        "tree = html.fromstring(page_source)\n",
        "\n",
        "title_text = tree.xpath('//title/text()')\n",
        "print(title_text)\n",
        "\n",
        "## 드라이버 종료\n",
        "driver.quit()"
      ],
      "metadata": {
        "id": "cRC8x3_iW0im",
        "outputId": "f3d58fbc-3ec4-4ab4-d076-27a7365fa820",
        "colab": {
          "base_uri": "https://localhost:8080/"
        }
      },
      "execution_count": null,
      "outputs": [
        {
          "output_type": "stream",
          "name": "stdout",
          "text": [
            "['\\n\\t\\tAlert \\n\\t\\t\\n\\t']\n"
          ]
        }
      ]
    },
    {
      "cell_type": "markdown",
      "source": [
        "\n",
        "# 실습 시나리오"
      ],
      "metadata": {
        "id": "Bu6OMZyGirOq"
      }
    },
    {
      "cell_type": "markdown",
      "source": [
        "## 공공데이터 포털 가입 및 데이터 신청\n",
        "\n",
        "- [https://www.data.go.kr](https://www.data.go.kr)\n",
        "- 한국환경공단 에어코리아 대기오염정보 데이터 신청"
      ],
      "metadata": {
        "id": "nsuqRN9RkZlW"
      }
    },
    {
      "cell_type": "code",
      "source": [
        "import requests\n",
        "\n",
        "## 교재를 통해 포털 가입하고 api key 발급을 받아야 한다\n",
        "\n",
        "## 데이터 수집 url 및 api key 설정\n",
        "url = 'http://apis.data.go.kr/B552584/ArpltnInforInqireSvc/getCtprvnRltmMesureDnsty'\n",
        "api_key = ''\n",
        "\n",
        "params = {\n",
        "    'serviceKey': api_key,\n",
        "    'returnType': 'json',\n",
        "    'numOfRows': '100',\n",
        "    'pageNo': '1',\n",
        "    'sidoName': '서울',\n",
        "    'ver': '1.0'\n",
        "}\n",
        "\n",
        "## 데이터 수집\n",
        "response = requests.get(url, params=params)\n",
        "\n",
        "## 호출 성공/실패 출력\n",
        "print(response.json())\n"
      ],
      "metadata": {
        "id": "7yCozmQeXJcO",
        "outputId": "9f255e69-18fb-4804-d9cf-9e9f2c60b7eb",
        "colab": {
          "base_uri": "https://localhost:8080/"
        }
      },
      "execution_count": null,
      "outputs": [
        {
          "output_type": "stream",
          "name": "stdout",
          "text": [
            "{'response': {'body': {'totalCount': 40, 'items': [{'so2Grade': '1', 'coFlag': None, 'khaiValue': '46', 'so2Value': '0.002', 'coValue': '0.2', 'pm25Flag': None, 'pm10Flag': None, 'o3Grade': '1', 'pm10Value': '8', 'khaiGrade': '1', 'pm25Value': '5', 'sidoName': '서울', 'no2Flag': None, 'no2Grade': '1', 'o3Flag': None, 'pm25Grade': '1', 'so2Flag': None, 'dataTime': '2025-09-21 23:00', 'coGrade': '1', 'no2Value': '0.012', 'stationName': '중구', 'pm10Grade': '1', 'o3Value': '0.028'}, {'so2Grade': '1', 'coFlag': None, 'khaiValue': '37', 'so2Value': '0.003', 'coValue': '0.4', 'pm25Flag': None, 'pm10Flag': None, 'o3Grade': '1', 'pm10Value': '8', 'khaiGrade': '1', 'pm25Value': '5', 'sidoName': '서울', 'no2Flag': None, 'no2Grade': '1', 'o3Flag': None, 'pm25Grade': None, 'so2Flag': None, 'dataTime': '2025-09-21 23:00', 'coGrade': '1', 'no2Value': '0.012', 'stationName': '한강대로', 'pm10Grade': '1', 'o3Value': '0.022'}, {'so2Grade': '1', 'coFlag': None, 'khaiValue': '-', 'so2Value': '0.002', 'coValue': '0.2', 'pm25Flag': None, 'pm10Flag': None, 'o3Grade': '1', 'pm10Value': '8', 'khaiGrade': None, 'pm25Value': '2', 'sidoName': '서울', 'no2Flag': None, 'no2Grade': '1', 'o3Flag': None, 'pm25Grade': None, 'so2Flag': None, 'dataTime': '2025-09-21 23:00', 'coGrade': '1', 'no2Value': '0.013', 'stationName': '종로구', 'pm10Grade': '1', 'o3Value': '0.029'}, {'so2Grade': '1', 'coFlag': None, 'khaiValue': '-', 'so2Value': '0.003', 'coValue': '0.3', 'pm25Flag': None, 'pm10Flag': None, 'o3Grade': '1', 'pm10Value': '10', 'khaiGrade': None, 'pm25Value': '3', 'sidoName': '서울', 'no2Flag': None, 'no2Grade': '1', 'o3Flag': None, 'pm25Grade': None, 'so2Flag': None, 'dataTime': '2025-09-21 23:00', 'coGrade': '1', 'no2Value': '0.012', 'stationName': '청계천로', 'pm10Grade': '1', 'o3Value': '0.024'}, {'so2Grade': '1', 'coFlag': None, 'khaiValue': '-', 'so2Value': '0.002', 'coValue': '0.3', 'pm25Flag': '통신장애', 'pm10Flag': None, 'o3Grade': '1', 'pm10Value': '9', 'khaiGrade': None, 'pm25Value': '-', 'sidoName': '서울', 'no2Flag': None, 'no2Grade': '1', 'o3Flag': None, 'pm25Grade': None, 'so2Flag': None, 'dataTime': '2025-09-21 23:00', 'coGrade': '1', 'no2Value': '0.013', 'stationName': '종로', 'pm10Grade': '1', 'o3Value': '0.022'}, {'so2Grade': '1', 'coFlag': None, 'khaiValue': '40', 'so2Value': '0.002', 'coValue': '0.2', 'pm25Flag': None, 'pm10Flag': None, 'o3Grade': '1', 'pm10Value': '7', 'khaiGrade': '1', 'pm25Value': '4', 'sidoName': '서울', 'no2Flag': None, 'no2Grade': '1', 'o3Flag': None, 'pm25Grade': '1', 'so2Flag': None, 'dataTime': '2025-09-21 23:00', 'coGrade': '1', 'no2Value': '0.010', 'stationName': '용산구', 'pm10Grade': '1', 'o3Value': '0.024'}, {'so2Grade': '1', 'coFlag': None, 'khaiValue': '49', 'so2Value': '0.003', 'coValue': '0.3', 'pm25Flag': None, 'pm10Flag': None, 'o3Grade': '1', 'pm10Value': '9', 'khaiGrade': '1', 'pm25Value': '4', 'sidoName': '서울', 'no2Flag': None, 'no2Grade': '1', 'o3Flag': None, 'pm25Grade': '1', 'so2Flag': None, 'dataTime': '2025-09-21 23:00', 'coGrade': '1', 'no2Value': '0.009', 'stationName': '광진구', 'pm10Grade': '1', 'o3Value': '0.029'}, {'so2Grade': '1', 'coFlag': None, 'khaiValue': '48', 'so2Value': '0.002', 'coValue': '0.2', 'pm25Flag': None, 'pm10Flag': None, 'o3Grade': '1', 'pm10Value': '5', 'khaiGrade': '1', 'pm25Value': '6', 'sidoName': '서울', 'no2Flag': None, 'no2Grade': '1', 'o3Flag': None, 'pm25Grade': '1', 'so2Flag': None, 'dataTime': '2025-09-21 23:00', 'coGrade': '1', 'no2Value': '0.009', 'stationName': '성동구', 'pm10Grade': '1', 'o3Value': '0.029'}, {'so2Grade': '1', 'coFlag': None, 'khaiValue': '-', 'so2Value': '0.003', 'coValue': '0.2', 'pm25Flag': None, 'pm10Flag': None, 'o3Grade': '1', 'pm10Value': '8', 'khaiGrade': None, 'pm25Value': '4', 'sidoName': '서울', 'no2Flag': None, 'no2Grade': '1', 'o3Flag': None, 'pm25Grade': None, 'so2Flag': None, 'dataTime': '2025-09-21 23:00', 'coGrade': '1', 'no2Value': '0.006', 'stationName': '강변북로', 'pm10Grade': '1', 'o3Value': '0.028'}, {'so2Grade': '1', 'coFlag': None, 'khaiValue': '-', 'so2Value': '0.002', 'coValue': '0.2', 'pm25Flag': None, 'pm10Flag': None, 'o3Grade': '1', 'pm10Value': '9', 'khaiGrade': None, 'pm25Value': '2', 'sidoName': '서울', 'no2Flag': None, 'no2Grade': '1', 'o3Flag': None, 'pm25Grade': None, 'so2Flag': None, 'dataTime': '2025-09-21 23:00', 'coGrade': '1', 'no2Value': '0.005', 'stationName': '중랑구', 'pm10Grade': '1', 'o3Value': '0.029'}, {'so2Grade': '1', 'coFlag': None, 'khaiValue': '42', 'so2Value': '0.002', 'coValue': '0.2', 'pm25Flag': None, 'pm10Flag': None, 'o3Grade': '1', 'pm10Value': '7', 'khaiGrade': '1', 'pm25Value': '5', 'sidoName': '서울', 'no2Flag': None, 'no2Grade': '1', 'o3Flag': None, 'pm25Grade': '1', 'so2Flag': None, 'dataTime': '2025-09-21 23:00', 'coGrade': '1', 'no2Value': '0.013', 'stationName': '동대문구', 'pm10Grade': '1', 'o3Value': '0.025'}, {'so2Grade': '1', 'coFlag': None, 'khaiValue': '-', 'so2Value': '0.002', 'coValue': '0.3', 'pm25Flag': None, 'pm10Flag': None, 'o3Grade': '1', 'pm10Value': '13', 'khaiGrade': None, 'pm25Value': '6', 'sidoName': '서울', 'no2Flag': None, 'no2Grade': '1', 'o3Flag': None, 'pm25Grade': None, 'so2Flag': None, 'dataTime': '2025-09-21 23:00', 'coGrade': '1', 'no2Value': '0.015', 'stationName': '홍릉로', 'pm10Grade': '1', 'o3Value': '0.024'}, {'so2Grade': '1', 'coFlag': None, 'khaiValue': '28', 'so2Value': '0.003', 'coValue': '0.3', 'pm25Flag': None, 'pm10Flag': None, 'o3Grade': '1', 'pm10Value': '7', 'khaiGrade': '1', 'pm25Value': '8', 'sidoName': '서울', 'no2Flag': None, 'no2Grade': '1', 'o3Flag': None, 'pm25Grade': '1', 'so2Flag': None, 'dataTime': '2025-09-21 23:00', 'coGrade': '1', 'no2Value': '0.014', 'stationName': '성북구', 'pm10Grade': '1', 'o3Value': '0.017'}, {'so2Grade': '1', 'coFlag': None, 'khaiValue': '-', 'so2Value': '0.002', 'coValue': '0.4', 'pm25Flag': None, 'pm10Flag': None, 'o3Grade': '1', 'pm10Value': '15', 'khaiGrade': None, 'pm25Value': '5', 'sidoName': '서울', 'no2Flag': None, 'no2Grade': '1', 'o3Flag': None, 'pm25Grade': None, 'so2Flag': None, 'dataTime': '2025-09-21 23:00', 'coGrade': '1', 'no2Value': '0.019', 'stationName': '정릉로', 'pm10Grade': '1', 'o3Value': '0.018'}, {'so2Grade': '1', 'coFlag': None, 'khaiValue': '42', 'so2Value': '0.003', 'coValue': '0.2', 'pm25Flag': None, 'pm10Flag': None, 'o3Grade': '1', 'pm10Value': '10', 'khaiGrade': '1', 'pm25Value': '6', 'sidoName': '서울', 'no2Flag': None, 'no2Grade': '1', 'o3Flag': None, 'pm25Grade': '1', 'so2Flag': None, 'dataTime': '2025-09-21 23:00', 'coGrade': '1', 'no2Value': '0.006', 'stationName': '도봉구', 'pm10Grade': '1', 'o3Value': '0.025'}, {'so2Grade': '1', 'coFlag': None, 'khaiValue': '-', 'so2Value': '0.002', 'coValue': '0.2', 'pm25Flag': None, 'pm10Flag': None, 'o3Grade': '1', 'pm10Value': '7', 'khaiGrade': None, 'pm25Value': '1', 'sidoName': '서울', 'no2Flag': None, 'no2Grade': '1', 'o3Flag': None, 'pm25Grade': None, 'so2Flag': None, 'dataTime': '2025-09-21 23:00', 'coGrade': '1', 'no2Value': '0.006', 'stationName': '은평구', 'pm10Grade': '1', 'o3Value': '0.023'}, {'so2Grade': '1', 'coFlag': None, 'khaiValue': '53', 'so2Value': '0.003', 'coValue': '0.3', 'pm25Flag': None, 'pm10Flag': None, 'o3Grade': '2', 'pm10Value': '6', 'khaiGrade': '2', 'pm25Value': '6', 'sidoName': '서울', 'no2Flag': None, 'no2Grade': '1', 'o3Flag': None, 'pm25Grade': '1', 'so2Flag': None, 'dataTime': '2025-09-21 23:00', 'coGrade': '1', 'no2Value': '0.003', 'stationName': '서대문구', 'pm10Grade': '1', 'o3Value': '0.033'}, {'so2Grade': '1', 'coFlag': None, 'khaiValue': '50', 'so2Value': '0.002', 'coValue': '0.3', 'pm25Flag': None, 'pm10Flag': None, 'o3Grade': '1', 'pm10Value': '8', 'khaiGrade': '1', 'pm25Value': '6', 'sidoName': '서울', 'no2Flag': None, 'no2Grade': '1', 'o3Flag': None, 'pm25Grade': '1', 'so2Flag': None, 'dataTime': '2025-09-21 23:00', 'coGrade': '1', 'no2Value': '0.009', 'stationName': '마포구', 'pm10Grade': '1', 'o3Value': '0.030'}, {'so2Grade': '1', 'coFlag': None, 'khaiValue': '-', 'so2Value': '0.002', 'coValue': '0.3', 'pm25Flag': None, 'pm10Flag': None, 'o3Grade': '1', 'pm10Value': '14', 'khaiGrade': None, 'pm25Value': '4', 'sidoName': '서울', 'no2Flag': None, 'no2Grade': '1', 'o3Flag': None, 'pm25Grade': None, 'so2Flag': None, 'dataTime': '2025-09-21 23:00', 'coGrade': '1', 'no2Value': '0.009', 'stationName': '신촌로', 'pm10Grade': '1', 'o3Value': '0.028'}, {'so2Grade': '1', 'coFlag': None, 'khaiValue': '-', 'so2Value': '0.002', 'coValue': '0.3', 'pm25Flag': None, 'pm10Flag': None, 'o3Grade': '1', 'pm10Value': '8', 'khaiGrade': None, 'pm25Value': '1', 'sidoName': '서울', 'no2Flag': None, 'no2Grade': '1', 'o3Flag': None, 'pm25Grade': None, 'so2Flag': None, 'dataTime': '2025-09-21 23:00', 'coGrade': '1', 'no2Value': '0.012', 'stationName': '강서구', 'pm10Grade': '1', 'o3Value': '0.025'}, {'so2Grade': '1', 'coFlag': None, 'khaiValue': '37', 'so2Value': '0.002', 'coValue': '0.3', 'pm25Flag': None, 'pm10Flag': None, 'o3Grade': '1', 'pm10Value': '11', 'khaiGrade': '1', 'pm25Value': '3', 'sidoName': '서울', 'no2Flag': None, 'no2Grade': '1', 'o3Flag': None, 'pm25Grade': '1', 'so2Flag': None, 'dataTime': '2025-09-21 23:00', 'coGrade': '1', 'no2Value': '0.014', 'stationName': '공항대로', 'pm10Grade': '1', 'o3Value': '0.022'}, {'so2Grade': '1', 'coFlag': None, 'khaiValue': '42', 'so2Value': '0.002', 'coValue': '0.3', 'pm25Flag': None, 'pm10Flag': None, 'o3Grade': '1', 'pm10Value': '11', 'khaiGrade': '1', 'pm25Value': '7', 'sidoName': '서울', 'no2Flag': None, 'no2Grade': '1', 'o3Flag': None, 'pm25Grade': '1', 'so2Flag': None, 'dataTime': '2025-09-21 23:00', 'coGrade': '1', 'no2Value': '0.009', 'stationName': '구로구', 'pm10Grade': '1', 'o3Value': '0.025'}, {'so2Grade': '1', 'coFlag': None, 'khaiValue': '42', 'so2Value': '0.002', 'coValue': '0.3', 'pm25Flag': None, 'pm10Flag': None, 'o3Grade': '1', 'pm10Value': '12', 'khaiGrade': '1', 'pm25Value': '6', 'sidoName': '서울', 'no2Flag': None, 'no2Grade': '1', 'o3Flag': None, 'pm25Grade': '1', 'so2Flag': None, 'dataTime': '2025-09-21 23:00', 'coGrade': '1', 'no2Value': '0.011', 'stationName': '영등포구', 'pm10Grade': '1', 'o3Value': '0.025'}, {'so2Grade': '1', 'coFlag': None, 'khaiValue': '38', 'so2Value': '0.002', 'coValue': '0.3', 'pm25Flag': '통신장애', 'pm10Flag': None, 'o3Grade': '1', 'pm10Value': '12', 'khaiGrade': '1', 'pm25Value': '-', 'sidoName': '서울', 'no2Flag': None, 'no2Grade': '1', 'o3Flag': None, 'pm25Grade': None, 'so2Flag': None, 'dataTime': '2025-09-21 23:00', 'coGrade': '1', 'no2Value': '0.015', 'stationName': '영등포로', 'pm10Grade': '1', 'o3Value': '0.023'}, {'so2Grade': '1', 'coFlag': None, 'khaiValue': '31', 'so2Value': '0.002', 'coValue': '0.3', 'pm25Flag': None, 'pm10Flag': None, 'o3Grade': '1', 'pm10Value': '10', 'khaiGrade': '1', 'pm25Value': '5', 'sidoName': '서울', 'no2Flag': None, 'no2Grade': '1', 'o3Flag': None, 'pm25Grade': '1', 'so2Flag': None, 'dataTime': '2025-09-21 23:00', 'coGrade': '1', 'no2Value': '0.018', 'stationName': '동작구', 'pm10Grade': '1', 'o3Value': '0.017'}, {'so2Grade': '1', 'coFlag': None, 'khaiValue': '-', 'so2Value': '0.002', 'coValue': '0.3', 'pm25Flag': '통신장애', 'pm10Flag': None, 'o3Grade': '1', 'pm10Value': '9', 'khaiGrade': None, 'pm25Value': '-', 'sidoName': '서울', 'no2Flag': None, 'no2Grade': '1', 'o3Flag': None, 'pm25Grade': None, 'so2Flag': None, 'dataTime': '2025-09-21 23:00', 'coGrade': '1', 'no2Value': '0.020', 'stationName': '동작대로 중앙차로', 'pm10Grade': '1', 'o3Value': '0.019'}, {'so2Grade': '1', 'coFlag': None, 'khaiValue': '39', 'so2Value': '0.002', 'coValue': '0.3', 'pm25Flag': None, 'pm10Flag': None, 'o3Grade': '1', 'pm10Value': '8', 'khaiGrade': '1', 'pm25Value': '4', 'sidoName': '서울', 'no2Flag': None, 'no2Grade': '1', 'o3Flag': None, 'pm25Grade': '1', 'so2Flag': None, 'dataTime': '2025-09-21 23:00', 'coGrade': '1', 'no2Value': '0.013', 'stationName': '관악구', 'pm10Grade': '1', 'o3Value': '0.023'}, {'so2Grade': '1', 'coFlag': None, 'khaiValue': '-', 'so2Value': '0.002', 'coValue': '0.3', 'pm25Flag': None, 'pm10Flag': None, 'o3Grade': '1', 'pm10Value': '9', 'khaiGrade': None, 'pm25Value': '3', 'sidoName': '서울', 'no2Flag': None, 'no2Grade': '1', 'o3Flag': None, 'pm25Grade': None, 'so2Flag': None, 'dataTime': '2025-09-21 23:00', 'coGrade': '1', 'no2Value': '0.012', 'stationName': '강남구', 'pm10Grade': '1', 'o3Value': '0.024'}, {'so2Grade': '1', 'coFlag': None, 'khaiValue': '46', 'so2Value': '0.002', 'coValue': '0.2', 'pm25Flag': None, 'pm10Flag': None, 'o3Grade': '1', 'pm10Value': '6', 'khaiGrade': '1', 'pm25Value': '5', 'sidoName': '서울', 'no2Flag': None, 'no2Grade': '1', 'o3Flag': None, 'pm25Grade': '1', 'so2Flag': None, 'dataTime': '2025-09-21 23:00', 'coGrade': '1', 'no2Value': '0.009', 'stationName': '서초구', 'pm10Grade': '1', 'o3Value': '0.027'}, {'so2Grade': '1', 'coFlag': None, 'khaiValue': '47', 'so2Value': '0.002', 'coValue': '0.2', 'pm25Flag': None, 'pm10Flag': None, 'o3Grade': '1', 'pm10Value': '10', 'khaiGrade': '1', 'pm25Value': '3', 'sidoName': '서울', 'no2Flag': None, 'no2Grade': '1', 'o3Flag': None, 'pm25Grade': '1', 'so2Flag': None, 'dataTime': '2025-09-21 23:00', 'coGrade': '1', 'no2Value': '0.010', 'stationName': '도산대로', 'pm10Grade': '1', 'o3Value': '0.028'}, {'so2Grade': '1', 'coFlag': None, 'khaiValue': '41', 'so2Value': '0.003', 'coValue': '0.6', 'pm25Flag': None, 'pm10Flag': None, 'o3Grade': '1', 'pm10Value': '10', 'khaiGrade': '1', 'pm25Value': '5', 'sidoName': '서울', 'no2Flag': None, 'no2Grade': '1', 'o3Flag': None, 'pm25Grade': None, 'so2Flag': None, 'dataTime': '2025-09-21 23:00', 'coGrade': '1', 'no2Value': '0.025', 'stationName': '강남대로', 'pm10Grade': '1', 'o3Value': '0.004'}, {'so2Grade': '1', 'coFlag': None, 'khaiValue': '44', 'so2Value': '0.002', 'coValue': '0.2', 'pm25Flag': None, 'pm10Flag': None, 'o3Grade': '1', 'pm10Value': '9', 'khaiGrade': '1', 'pm25Value': '1', 'sidoName': '서울', 'no2Flag': None, 'no2Grade': '1', 'o3Flag': None, 'pm25Grade': '1', 'so2Flag': None, 'dataTime': '2025-09-21 23:00', 'coGrade': '1', 'no2Value': '0.010', 'stationName': '송파구', 'pm10Grade': '1', 'o3Value': '0.027'}, {'so2Grade': '1', 'coFlag': None, 'khaiValue': '44', 'so2Value': '0.002', 'coValue': '0.6', 'pm25Flag': None, 'pm10Flag': None, 'o3Grade': '1', 'pm10Value': '12', 'khaiGrade': '1', 'pm25Value': '5', 'sidoName': '서울', 'no2Flag': None, 'no2Grade': '1', 'o3Flag': None, 'pm25Grade': '1', 'so2Flag': None, 'dataTime': '2025-09-21 23:00', 'coGrade': '1', 'no2Value': '0.008', 'stationName': '강동구', 'pm10Grade': '1', 'o3Value': '0.026'}, {'so2Grade': '1', 'coFlag': None, 'khaiValue': '-', 'so2Value': '0.002', 'coValue': '0.3', 'pm25Flag': None, 'pm10Flag': None, 'o3Grade': '1', 'pm10Value': '5', 'khaiGrade': None, 'pm25Value': '3', 'sidoName': '서울', 'no2Flag': None, 'no2Grade': '1', 'o3Flag': None, 'pm25Grade': None, 'so2Flag': None, 'dataTime': '2025-09-21 23:00', 'coGrade': '1', 'no2Value': '0.014', 'stationName': '천호대로', 'pm10Grade': '1', 'o3Value': '0.019'}, {'so2Grade': '1', 'coFlag': None, 'khaiValue': '29', 'so2Value': '0.002', 'coValue': '0.3', 'pm25Flag': None, 'pm10Flag': None, 'o3Grade': '1', 'pm10Value': '11', 'khaiGrade': '1', 'pm25Value': '7', 'sidoName': '서울', 'no2Flag': None, 'no2Grade': '1', 'o3Flag': None, 'pm25Grade': '1', 'so2Flag': None, 'dataTime': '2025-09-21 23:00', 'coGrade': '1', 'no2Value': '0.016', 'stationName': '금천구', 'pm10Grade': '1', 'o3Value': '0.017'}, {'so2Grade': '1', 'coFlag': None, 'khaiValue': '46', 'so2Value': '0.002', 'coValue': '0.4', 'pm25Flag': None, 'pm10Flag': None, 'o3Grade': '1', 'pm10Value': '10', 'khaiGrade': '1', 'pm25Value': '3', 'sidoName': '서울', 'no2Flag': None, 'no2Grade': '1', 'o3Flag': None, 'pm25Grade': '1', 'so2Flag': None, 'dataTime': '2025-09-21 23:00', 'coGrade': '1', 'no2Value': '0.028', 'stationName': '시흥대로', 'pm10Grade': '1', 'o3Value': '0.015'}, {'so2Grade': '1', 'coFlag': None, 'khaiValue': '-', 'so2Value': '0.002', 'coValue': '0.2', 'pm25Flag': None, 'pm10Flag': None, 'o3Grade': '1', 'pm10Value': '12', 'khaiGrade': None, 'pm25Value': '1', 'sidoName': '서울', 'no2Flag': None, 'no2Grade': '1', 'o3Flag': None, 'pm25Grade': None, 'so2Flag': None, 'dataTime': '2025-09-21 23:00', 'coGrade': '1', 'no2Value': '0.004', 'stationName': '강북구', 'pm10Grade': '1', 'o3Value': '0.023'}, {'so2Grade': '1', 'coFlag': None, 'khaiValue': '51', 'so2Value': '0.002', 'coValue': '0.2', 'pm25Flag': None, 'pm10Flag': None, 'o3Grade': '2', 'pm10Value': '12', 'khaiGrade': '2', 'pm25Value': '4', 'sidoName': '서울', 'no2Flag': None, 'no2Grade': '1', 'o3Flag': None, 'pm25Grade': '1', 'so2Flag': None, 'dataTime': '2025-09-21 23:00', 'coGrade': '1', 'no2Value': '0.009', 'stationName': '양천구', 'pm10Grade': '1', 'o3Value': '0.030'}, {'so2Grade': '1', 'coFlag': None, 'khaiValue': '32', 'so2Value': '0.002', 'coValue': '0.3', 'pm25Flag': None, 'pm10Flag': None, 'o3Grade': '1', 'pm10Value': '9', 'khaiGrade': '1', 'pm25Value': '6', 'sidoName': '서울', 'no2Flag': None, 'no2Grade': '1', 'o3Flag': None, 'pm25Grade': '1', 'so2Flag': None, 'dataTime': '2025-09-21 23:00', 'coGrade': '1', 'no2Value': '0.014', 'stationName': '노원구', 'pm10Grade': '1', 'o3Value': '0.019'}, {'so2Grade': '1', 'coFlag': None, 'khaiValue': '-', 'so2Value': '0.002', 'coValue': '0.4', 'pm25Flag': None, 'pm10Flag': None, 'o3Grade': '1', 'pm10Value': '9', 'khaiGrade': None, 'pm25Value': '4', 'sidoName': '서울', 'no2Flag': None, 'no2Grade': '1', 'o3Flag': None, 'pm25Grade': None, 'so2Flag': None, 'dataTime': '2025-09-21 23:00', 'coGrade': '1', 'no2Value': '0.021', 'stationName': '화랑로', 'pm10Grade': '1', 'o3Value': '0.015'}], 'pageNo': 1, 'numOfRows': 100}, 'header': {'resultMsg': 'NORMAL_CODE', 'resultCode': '00'}}}\n"
          ]
        }
      ]
    },
    {
      "cell_type": "code",
      "source": [
        "import requests\n",
        "import json\n",
        "\n",
        "API_KEY = ''\n",
        "RECORDS = []\n",
        "\n",
        "\n",
        "def get_year_month():\n",
        "    year_month = []\n",
        "    for year in range(2015, 2024+1):\n",
        "        for month in range(1, 12+1):\n",
        "            year_month.append((year, f'{month:02d}'))\n",
        "    return year_month\n",
        "\n",
        "try:\n",
        "    for year, month in get_year_month():\n",
        "        url = f'http://openapi.seoul.go.kr:8088/{API_KEY}/json/energyUseDataStatInfo/1/5/{year}/{month}'\n",
        "\n",
        "        response = requests.get(url)\n",
        "        response.raise_for_status()\n",
        "\n",
        "        data = response.json()\n",
        "        data_rows = data['energyUseDataStatInfo']['row']\n",
        "\n",
        "        for row in data_rows:\n",
        "            if row['MM_TYPE'] != '개인':\n",
        "                continue\n",
        "\n",
        "            record = {\n",
        "                '연도': row['YEAR'],\n",
        "                '월': row['MON'],\n",
        "                '전기사용량': row['EUS'],\n",
        "                '가스사용량': row['GUS'],\n",
        "                '수도사용량': row['WUS'],\n",
        "                '지역난방사용량': row['HUS']\n",
        "            }\n",
        "            RECORDS.append(record)\n",
        "\n",
        "\n",
        "    for record in RECORDS:\n",
        "        print(record)\n",
        "\n",
        "except requests.exceptions.RequestException as e:\n",
        "    print(f\"API 호출 실패: {e}\")\n",
        "except json.JSONDecodeError as e:\n",
        "    print(f\"JSON 파싱 실패: {e}\")"
      ],
      "metadata": {
        "id": "rUInzTlqBlds",
        "outputId": "31c9bd9e-e717-4b26-bdc2-36fa7d0e9110",
        "colab": {
          "base_uri": "https://localhost:8080/"
        }
      },
      "execution_count": 31,
      "outputs": [
        {
          "output_type": "stream",
          "name": "stdout",
          "text": [
            "{'연도': '2015', '월': '01', '전기사용량': '215', '가스사용량': '0', '수도사용량': '0', '지역난방사용량': '0'}\n",
            "{'연도': '2015', '월': '02', '전기사용량': '162846', '가스사용량': '76043', '수도사용량': '4448', '지역난방사용량': '0.49'}\n",
            "{'연도': '2015', '월': '02', '전기사용량': '485568', '가스사용량': '142754', '수도사용량': '68357.8', '지역난방사용량': '0'}\n",
            "{'연도': '2015', '월': '04', '전기사용량': '0', '가스사용량': '96', '수도사용량': '0', '지역난방사용량': '0'}\n",
            "{'연도': '2015', '월': '04', '전기사용량': '177', '가스사용량': '0', '수도사용량': '0', '지역난방사용량': '1'}\n",
            "{'연도': '2015', '월': '04', '전기사용량': '355580', '가스사용량': '80820', '수도사용량': '22487', '지역난방사용량': '18140.324'}\n",
            "{'연도': '2015', '월': '04', '전기사용량': '56724', '가스사용량': '17889', '수도사용량': '0', '지역난방사용량': '0'}\n",
            "{'연도': '2015', '월': '05', '전기사용량': '134', '가스사용량': '0', '수도사용량': '0', '지역난방사용량': '0'}\n",
            "{'연도': '2015', '월': '05', '전기사용량': '262', '가스사용량': '125', '수도사용량': '0', '지역난방사용량': '0'}\n",
            "{'연도': '2015', '월': '06', '전기사용량': '234', '가스사용량': '38', '수도사용량': '0', '지역난방사용량': '0'}\n",
            "{'연도': '2015', '월': '07', '전기사용량': '0', '가스사용량': '14', '수도사용량': '0', '지역난방사용량': '0'}\n",
            "{'연도': '2015', '월': '07', '전기사용량': '0', '가스사용량': '7', '수도사용량': '0', '지역난방사용량': '0'}\n",
            "{'연도': '2015', '월': '07', '전기사용량': '0', '가스사용량': '12', '수도사용량': '0', '지역난방사용량': '0'}\n",
            "{'연도': '2015', '월': '08', '전기사용량': '0', '가스사용량': '3', '수도사용량': '0', '지역난방사용량': '0'}\n",
            "{'연도': '2015', '월': '10', '전기사용량': '754999', '가스사용량': '1041', '수도사용량': '50056', '지역난방사용량': '27865.85'}\n",
            "{'연도': '2015', '월': '10', '전기사용량': '50092', '가스사용량': '3391', '수도사용량': '11035.8', '지역난방사용량': '0'}\n",
            "{'연도': '2015', '월': '11', '전기사용량': '255', '가스사용량': '14', '수도사용량': '0', '지역난방사용량': '0'}\n",
            "{'연도': '2015', '월': '11', '전기사용량': '0', '가스사용량': '172', '수도사용량': '0', '지역난방사용량': '0'}\n",
            "{'연도': '2016', '월': '01', '전기사용량': '0', '가스사용량': '152', '수도사용량': '3', '지역난방사용량': '0'}\n",
            "{'연도': '2016', '월': '01', '전기사용량': '544', '가스사용량': '0', '수도사용량': '0', '지역난방사용량': '0'}\n",
            "{'연도': '2016', '월': '02', '전기사용량': '0', '가스사용량': '12', '수도사용량': '0', '지역난방사용량': '0'}\n",
            "{'연도': '2016', '월': '03', '전기사용량': '0', '가스사용량': '150', '수도사용량': '0', '지역난방사용량': '0'}\n",
            "{'연도': '2016', '월': '05', '전기사용량': '511', '가스사용량': '69', '수도사용량': '84', '지역난방사용량': '9'}\n",
            "{'연도': '2016', '월': '05', '전기사용량': '33514', '가스사용량': '5838', '수도사용량': '3097', '지역난방사용량': '0'}\n",
            "{'연도': '2016', '월': '05', '전기사용량': '328528', '가스사용량': '41457', '수도사용량': '22838.6', '지역난방사용량': '0'}\n",
            "{'연도': '2016', '월': '06', '전기사용량': '0', '가스사용량': '189', '수도사용량': '0', '지역난방사용량': '0'}\n",
            "{'연도': '2016', '월': '06', '전기사용량': '221', '가스사용량': '45', '수도사용량': '0', '지역난방사용량': '0'}\n",
            "{'연도': '2016', '월': '06', '전기사용량': '47958', '가스사용량': '8144', '수도사용량': '5079', '지역난방사용량': '0'}\n",
            "{'연도': '2016', '월': '06', '전기사용량': '347455', '가스사용량': '35855', '수도사용량': '20817.8', '지역난방사용량': '0'}\n",
            "{'연도': '2016', '월': '07', '전기사용량': '0', '가스사용량': '0', '수도사용량': '15', '지역난방사용량': '0'}\n",
            "{'연도': '2016', '월': '07', '전기사용량': '0', '가스사용량': '114', '수도사용량': '0', '지역난방사용량': '0'}\n",
            "{'연도': '2016', '월': '07', '전기사용량': '553', '가스사용량': '0', '수도사용량': '0', '지역난방사용량': '0.01'}\n",
            "{'연도': '2016', '월': '07', '전기사용량': '1531', '가스사용량': '146', '수도사용량': '47', '지역난방사용량': '0'}\n",
            "{'연도': '2016', '월': '07', '전기사용량': '283', '가스사용량': '0', '수도사용량': '11620', '지역난방사용량': '0'}\n",
            "{'연도': '2016', '월': '08', '전기사용량': '311', '가스사용량': '7', '수도사용량': '18', '지역난방사용량': '0'}\n",
            "{'연도': '2016', '월': '08', '전기사용량': '5472', '가스사용량': '0', '수도사용량': '0', '지역난방사용량': '0'}\n",
            "{'연도': '2016', '월': '08', '전기사용량': '6689', '가스사용량': '0', '수도사용량': '0', '지역난방사용량': '0'}\n",
            "{'연도': '2016', '월': '09', '전기사용량': '0', '가스사용량': '6', '수도사용량': '0', '지역난방사용량': '0'}\n",
            "{'연도': '2016', '월': '09', '전기사용량': '0', '가스사용량': '58', '수도사용량': '0', '지역난방사용량': '0'}\n",
            "{'연도': '2016', '월': '09', '전기사용량': '0', '가스사용량': '6', '수도사용량': '40', '지역난방사용량': '0'}\n",
            "{'연도': '2016', '월': '09', '전기사용량': '0', '가스사용량': '42', '수도사용량': '0', '지역난방사용량': '0'}\n",
            "{'연도': '2016', '월': '09', '전기사용량': '13664', '가스사용량': '0', '수도사용량': '0', '지역난방사용량': '0'}\n",
            "{'연도': '2016', '월': '10', '전기사용량': '0', '가스사용량': '83', '수도사용량': '0', '지역난방사용량': '0'}\n",
            "{'연도': '2016', '월': '11', '전기사용량': '5342', '가스사용량': '391', '수도사용량': '0', '지역난방사용량': '0'}\n",
            "{'연도': '2016', '월': '11', '전기사용량': '275', '가스사용량': '0', '수도사용량': '0', '지역난방사용량': '0'}\n",
            "{'연도': '2016', '월': '12', '전기사용량': '0', '가스사용량': '402', '수도사용량': '0', '지역난방사용량': '0'}\n",
            "{'연도': '2016', '월': '12', '전기사용량': '0', '가스사용량': '39', '수도사용량': '0', '지역난방사용량': '0'}\n",
            "{'연도': '2017', '월': '01', '전기사용량': '268171', '가스사용량': '103412', '수도사용량': '17578', '지역난방사용량': '0'}\n",
            "{'연도': '2017', '월': '01', '전기사용량': '397548', '가스사용량': '207846', '수도사용량': '43770.6', '지역난방사용량': '0'}\n",
            "{'연도': '2017', '월': '02', '전기사용량': '274', '가스사용량': '0', '수도사용량': '0', '지역난방사용량': '0'}\n",
            "{'연도': '2017', '월': '02', '전기사용량': '301', '가스사용량': '243', '수도사용량': '0', '지역난방사용량': '0'}\n",
            "{'연도': '2017', '월': '02', '전기사용량': '751', '가스사용량': '253', '수도사용량': '0', '지역난방사용량': '0'}\n",
            "{'연도': '2017', '월': '03', '전기사용량': '0', '가스사용량': '151', '수도사용량': '0', '지역난방사용량': '0'}\n",
            "{'연도': '2017', '월': '03', '전기사용량': '0', '가스사용량': '632', '수도사용량': '0', '지역난방사용량': '0'}\n",
            "{'연도': '2017', '월': '03', '전기사용량': '112939', '가스사용량': '57880', '수도사용량': '10468.8', '지역난방사용량': '0'}\n",
            "{'연도': '2017', '월': '04', '전기사용량': '1542', '가스사용량': '286', '수도사용량': '0', '지역난방사용량': '0'}\n",
            "{'연도': '2017', '월': '04', '전기사용량': '3540', '가스사용량': '1881', '수도사용량': '28', '지역난방사용량': '0'}\n",
            "{'연도': '2017', '월': '04', '전기사용량': '266364', '가스사용량': '104125', '수도사용량': '12025', '지역난방사용량': '0'}\n",
            "{'연도': '2017', '월': '05', '전기사용량': '0', '가스사용량': '30', '수도사용량': '0', '지역난방사용량': '0'}\n",
            "{'연도': '2017', '월': '07', '전기사용량': '0', '가스사용량': '13', '수도사용량': '0', '지역난방사용량': '0'}\n",
            "{'연도': '2017', '월': '07', '전기사용량': '1476', '가스사용량': '0', '수도사용량': '0', '지역난방사용량': '0'}\n",
            "{'연도': '2017', '월': '07', '전기사용량': '0', '가스사용량': '52', '수도사용량': '0', '지역난방사용량': '0'}\n",
            "{'연도': '2017', '월': '07', '전기사용량': '0', '가스사용량': '51', '수도사용량': '0', '지역난방사용량': '0'}\n",
            "{'연도': '2017', '월': '08', '전기사용량': '421', '가스사용량': '0', '수도사용량': '0', '지역난방사용량': '0'}\n",
            "{'연도': '2017', '월': '08', '전기사용량': '207', '가스사용량': '13', '수도사용량': '0', '지역난방사용량': '0'}\n",
            "{'연도': '2017', '월': '08', '전기사용량': '402', '가스사용량': '15', '수도사용량': '0', '지역난방사용량': '0'}\n",
            "{'연도': '2017', '월': '09', '전기사용량': '0', '가스사용량': '62', '수도사용량': '0', '지역난방사용량': '0'}\n",
            "{'연도': '2017', '월': '09', '전기사용량': '4627', '가스사용량': '212', '수도사용량': '638', '지역난방사용량': '0'}\n",
            "{'연도': '2017', '월': '09', '전기사용량': '346089', '가스사용량': '18998', '수도사용량': '25774', '지역난방사용량': '0'}\n",
            "{'연도': '2017', '월': '09', '전기사용량': '92876', '가스사용량': '4796', '수도사용량': '9693', '지역난방사용량': '0'}\n",
            "{'연도': '2017', '월': '10', '전기사용량': '229', '가스사용량': '0', '수도사용량': '0', '지역난방사용량': '0'}\n",
            "{'연도': '2017', '월': '10', '전기사용량': '0', '가스사용량': '0', '수도사용량': '27', '지역난방사용량': '0'}\n",
            "{'연도': '2017', '월': '10', '전기사용량': '257481', '가스사용량': '26363', '수도사용량': '12640', '지역난방사용량': '0'}\n",
            "{'연도': '2017', '월': '11', '전기사용량': '0', '가스사용량': '293', '수도사용량': '0', '지역난방사용량': '0'}\n",
            "{'연도': '2017', '월': '11', '전기사용량': '3729', '가스사용량': '454', '수도사용량': '0', '지역난방사용량': '0'}\n",
            "{'연도': '2017', '월': '12', '전기사용량': '204', '가스사용량': '284', '수도사용량': '0', '지역난방사용량': '0'}\n",
            "{'연도': '2017', '월': '12', '전기사용량': '710508', '가스사용량': '151186', '수도사용량': '43243', '지역난방사용량': '0'}\n",
            "{'연도': '2018', '월': '01', '전기사용량': '0', '가스사용량': '928', '수도사용량': '0', '지역난방사용량': '0'}\n",
            "{'연도': '2018', '월': '01', '전기사용량': '0', '가스사용량': '6', '수도사용량': '0', '지역난방사용량': '0'}\n",
            "{'연도': '2018', '월': '01', '전기사용량': '390755', '가스사용량': '204187', '수도사용량': '2138', '지역난방사용량': '0'}\n",
            "{'연도': '2018', '월': '01', '전기사용량': '121139', '가스사용량': '40741', '수도사용량': '7182', '지역난방사용량': '0.93'}\n",
            "{'연도': '2018', '월': '02', '전기사용량': '722800', '가스사용량': '36964', '수도사용량': '29860', '지역난방사용량': '647653.77'}\n",
            "{'연도': '2018', '월': '04', '전기사용량': '270', '가스사용량': '0', '수도사용량': '0', '지역난방사용량': '0'}\n",
            "{'연도': '2018', '월': '04', '전기사용량': '160', '가스사용량': '21', '수도사용량': '0', '지역난방사용량': '0'}\n",
            "{'연도': '2018', '월': '05', '전기사용량': '244', '가스사용량': '0', '수도사용량': '0', '지역난방사용량': '0'}\n",
            "{'연도': '2018', '월': '05', '전기사용량': '532509', '가스사용량': '39102', '수도사용량': '31832', '지역난방사용량': '7039'}\n",
            "{'연도': '2018', '월': '06', '전기사용량': '240', '가스사용량': '0', '수도사용량': '0', '지역난방사용량': '0'}\n",
            "{'연도': '2018', '월': '06', '전기사용량': '0', '가스사용량': '295', '수도사용량': '0', '지역난방사용량': '0'}\n",
            "{'연도': '2018', '월': '08', '전기사용량': '26441', '가스사용량': '1463', '수도사용량': '2331.8', '지역난방사용량': '0'}\n",
            "{'연도': '2018', '월': '08', '전기사용량': '2356111', '가스사용량': '77889', '수도사용량': '110090', '지역난방사용량': '0'}\n",
            "{'연도': '2018', '월': '09', '전기사용량': '354', '가스사용량': '0', '수도사용량': '0', '지역난방사용량': '0'}\n",
            "{'연도': '2018', '월': '10', '전기사용량': '0', '가스사용량': '48', '수도사용량': '0', '지역난방사용량': '0'}\n",
            "{'연도': '2018', '월': '10', '전기사용량': '99', '가스사용량': '140', '수도사용량': '4', '지역난방사용량': '0'}\n",
            "{'연도': '2018', '월': '10', '전기사용량': '75651', '가스사용량': '12162', '수도사용량': '34675.2', '지역난방사용량': '0'}\n",
            "{'연도': '2018', '월': '11', '전기사용량': '0', '가스사용량': '9', '수도사용량': '0', '지역난방사용량': '0'}\n",
            "{'연도': '2018', '월': '12', '전기사용량': '205', '가스사용량': '247', '수도사용량': '0', '지역난방사용량': '0'}\n",
            "{'연도': '2019', '월': '02', '전기사용량': '0', '가스사용량': '831', '수도사용량': '0', '지역난방사용량': '0'}\n",
            "{'연도': '2019', '월': '02', '전기사용량': '694', '가스사용량': '0', '수도사용량': '0', '지역난방사용량': '0'}\n",
            "{'연도': '2019', '월': '02', '전기사용량': '4603', '가스사용량': '2044', '수도사용량': '0', '지역난방사용량': '0'}\n",
            "{'연도': '2019', '월': '02', '전기사용량': '3561', '가스사용량': '2057', '수도사용량': '0', '지역난방사용량': '0'}\n",
            "{'연도': '2019', '월': '03', '전기사용량': '57', '가스사용량': '0', '수도사용량': '7', '지역난방사용량': '0'}\n",
            "{'연도': '2019', '월': '03', '전기사용량': '0', '가스사용량': '97', '수도사용량': '0', '지역난방사용량': '0'}\n",
            "{'연도': '2019', '월': '03', '전기사용량': '276696', '가스사용량': '114590', '수도사용량': '19759', '지역난방사용량': '0'}\n",
            "{'연도': '2019', '월': '04', '전기사용량': '0', '가스사용량': '34', '수도사용량': '0', '지역난방사용량': '0'}\n",
            "{'연도': '2019', '월': '04', '전기사용량': '3833', '가스사용량': '1488', '수도사용량': '0', '지역난방사용량': '0'}\n",
            "{'연도': '2019', '월': '06', '전기사용량': '0', '가스사용량': '25', '수도사용량': '0', '지역난방사용량': '0'}\n",
            "{'연도': '2019', '월': '07', '전기사용량': '226', '가스사용량': '0', '수도사용량': '0', '지역난방사용량': '0'}\n",
            "{'연도': '2019', '월': '07', '전기사용량': '227671', '가스사용량': '13006', '수도사용량': '10839', '지역난방사용량': '6'}\n",
            "{'연도': '2019', '월': '08', '전기사용량': '0', '가스사용량': '11', '수도사용량': '0', '지역난방사용량': '0'}\n",
            "{'연도': '2019', '월': '09', '전기사용량': '0', '가스사용량': '67', '수도사용량': '0', '지역난방사용량': '0'}\n",
            "{'연도': '2019', '월': '09', '전기사용량': '367', '가스사용량': '0', '수도사용량': '0', '지역난방사용량': '0'}\n",
            "{'연도': '2019', '월': '10', '전기사용량': '14150', '가스사용량': '2829', '수도사용량': '646.6', '지역난방사용량': '0'}\n",
            "{'연도': '2019', '월': '10', '전기사용량': '313694', '가스사용량': '19017', '수도사용량': '14447.4', '지역난방사용량': '0'}\n",
            "{'연도': '2019', '월': '11', '전기사용량': '0', '가스사용량': '120', '수도사용량': '0', '지역난방사용량': '0'}\n",
            "{'연도': '2019', '월': '11', '전기사용량': '120486', '가스사용량': '4603', '수도사용량': '3615', '지역난방사용량': '1559.74'}\n",
            "{'연도': '2019', '월': '12', '전기사용량': '0', '가스사용량': '57', '수도사용량': '0', '지역난방사용량': '0'}\n",
            "{'연도': '2019', '월': '12', '전기사용량': '108', '가스사용량': '0', '수도사용량': '15', '지역난방사용량': '0'}\n",
            "{'연도': '2020', '월': '01', '전기사용량': '1909', '가스사용량': '752', '수도사용량': '99', '지역난방사용량': '0'}\n",
            "{'연도': '2020', '월': '02', '전기사용량': '191', '가스사용량': '46', '수도사용량': '0', '지역난방사용량': '0'}\n",
            "{'연도': '2020', '월': '03', '전기사용량': '1081', '가스사용량': '8', '수도사용량': '31', '지역난방사용량': '141'}\n",
            "{'연도': '2020', '월': '03', '전기사용량': '88803', '가스사용량': '1506', '수도사용량': '5941', '지역난방사용량': '6969'}\n",
            "{'연도': '2020', '월': '03', '전기사용량': '1684', '가스사용량': '539', '수도사용량': '860', '지역난방사용량': '96'}\n",
            "{'연도': '2020', '월': '03', '전기사용량': '909509', '가스사용량': '15356', '수도사용량': '8586', '지역난방사용량': '79000'}\n",
            "{'연도': '2020', '월': '04', '전기사용량': '6230', '가스사용량': '808', '수도사용량': '0', '지역난방사용량': '0'}\n",
            "{'연도': '2020', '월': '04', '전기사용량': '295', '가스사용량': '0', '수도사용량': '30', '지역난방사용량': '0'}\n",
            "{'연도': '2020', '월': '05', '전기사용량': '0', '가스사용량': '0', '수도사용량': '0', '지역난방사용량': '0'}\n",
            "{'연도': '2020', '월': '05', '전기사용량': '2203', '가스사용량': '0', '수도사용량': '203', '지역난방사용량': '0'}\n",
            "{'연도': '2020', '월': '06', '전기사용량': '477', '가스사용량': '0', '수도사용량': '0', '지역난방사용량': '0'}\n",
            "{'연도': '2020', '월': '07', '전기사용량': '102461', '가스사용량': '5993', '수도사용량': '6320', '지역난방사용량': '0'}\n",
            "{'연도': '2020', '월': '08', '전기사용량': '1735', '가스사용량': '125', '수도사용량': '0', '지역난방사용량': '0'}\n",
            "{'연도': '2020', '월': '09', '전기사용량': '1716', '가스사용량': '74', '수도사용량': '50', '지역난방사용량': '0'}\n",
            "{'연도': '2020', '월': '10', '전기사용량': '649', '가스사용량': '51', '수도사용량': '0', '지역난방사용량': '0'}\n",
            "{'연도': '2020', '월': '10', '전기사용량': '4054', '가스사용량': '79', '수도사용량': '0', '지역난방사용량': '0'}\n",
            "{'연도': '2020', '월': '11', '전기사용량': '442', '가스사용량': '0', '수도사용량': '24', '지역난방사용량': '0'}\n",
            "{'연도': '2020', '월': '11', '전기사용량': '335', '가스사용량': '14', '수도사용량': '56.6', '지역난방사용량': '0'}\n",
            "{'연도': '2020', '월': '11', '전기사용량': '437627', '가스사용량': '71630', '수도사용량': '24568.6', '지역난방사용량': '0'}\n",
            "{'연도': '2020', '월': '12', '전기사용량': '811', '가스사용량': '0', '수도사용량': '62', '지역난방사용량': '0'}\n",
            "{'연도': '2020', '월': '12', '전기사용량': '0', '가스사용량': '0', '수도사용량': '0', '지역난방사용량': '0'}\n",
            "{'연도': '2020', '월': '12', '전기사용량': '0', '가스사용량': '31', '수도사용량': '54', '지역난방사용량': '0'}\n"
          ]
        }
      ]
    }
  ]
}
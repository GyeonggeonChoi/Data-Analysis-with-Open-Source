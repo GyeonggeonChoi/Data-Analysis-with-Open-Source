{
  "nbformat": 4,
  "nbformat_minor": 0,
  "metadata": {
    "colab": {
      "provenance": [],
      "include_colab_link": true
    },
    "kernelspec": {
      "name": "python3",
      "display_name": "Python 3"
    },
    "language_info": {
      "name": "python"
    }
  },
  "cells": [
    {
      "cell_type": "markdown",
      "metadata": {
        "id": "view-in-github",
        "colab_type": "text"
      },
      "source": [
        "<a href=\"https://colab.research.google.com/github/GyeonggeonChoi/Data-Analysis-with-Open-Source/blob/main/%EC%98%A4%ED%94%88%EC%86%8C%EC%8A%A4_%EB%8D%B0%EC%9D%B4%ED%84%B0_%EB%B6%84%EC%84%9D_4%EA%B0%95.ipynb\" target=\"_parent\"><img src=\"https://colab.research.google.com/assets/colab-badge.svg\" alt=\"Open In Colab\"/></a>"
      ]
    },
    {
      "cell_type": "markdown",
      "source": [
        "\n",
        "\n",
        "# 오픈소스 기반 데이터 분석 4강 - 데이터 수집\n"
      ],
      "metadata": {
        "id": "DkPKaAsoRq5Q"
      }
    },
    {
      "cell_type": "markdown",
      "source": [
        "## 4-1 CSV 파일 읽기"
      ],
      "metadata": {
        "id": "-I7BVVlnRrB0"
      }
    },
    {
      "cell_type": "code",
      "source": [
        "import pandas as pd\n",
        "\n",
        "## data.csv 파일 읽기\n",
        "df = pd.read_csv('data.csv', encoding='utf-8', sep=',', header=0, index_col=None, skiprows=None, nrows=None)\n",
        "\n",
        "print(df)"
      ],
      "metadata": {
        "id": "2Y2HEiaiRwAI",
        "outputId": "6cac922d-fff0-4b65-fb75-8c21ae7f37be",
        "colab": {
          "base_uri": "https://localhost:8080/"
        }
      },
      "execution_count": null,
      "outputs": [
        {
          "output_type": "stream",
          "name": "stdout",
          "text": [
            "           날짜    체중  골격근량  체지방량\n",
            "0  2025.02.06  64.7  30.0  11.1\n",
            "1  2025.02.04  64.0  29.3  11.6\n"
          ]
        }
      ]
    },
    {
      "cell_type": "markdown",
      "source": [
        "## 4-2 JSON 파일 읽기\n",
        "\n"
      ],
      "metadata": {
        "id": "9kHCFaGlRrE0"
      }
    },
    {
      "cell_type": "code",
      "source": [
        "import json\n",
        "import pandas as pd\n",
        "\n",
        "## data.json 파일 출력\n",
        "with open('data.json', mode='r', encoding='utf-8') as f:\n",
        "    data = json.load(f)\n",
        "print(data)\n",
        "## data.json 파일 DataFrame 읽기\n",
        "df = pd.read_json('data.json', orient='records', encoding='utf-8', lines=False)\n",
        "print(df)"
      ],
      "metadata": {
        "id": "IO8bsKekR0W_",
        "outputId": "1b590fc4-ad38-43d3-f004-1b652817714f",
        "colab": {
          "base_uri": "https://localhost:8080/"
        }
      },
      "execution_count": null,
      "outputs": [
        {
          "output_type": "stream",
          "name": "stdout",
          "text": [
            "{'매출데이터': [{'월': '2025-01', '매출액': 1000000, '비용': 700000, '이익': 300000}, {'월': '2025-02', '매출액': 1200000, '비용': 800000, '이익': 400000}, {'월': '2025-03', '매출액': 1500000, '비용': 900000, '이익': 600000}]}\n",
            "                                               매출데이터\n",
            "0  {'월': '2025-01', '매출액': 1000000, '비용': 700000,...\n",
            "1  {'월': '2025-02', '매출액': 1200000, '비용': 800000,...\n",
            "2  {'월': '2025-03', '매출액': 1500000, '비용': 900000,...\n"
          ]
        }
      ]
    },
    {
      "cell_type": "markdown",
      "source": [
        "## 4-3 텍스트 파일 읽기 및 데이터 추출"
      ],
      "metadata": {
        "id": "uLd_3A_IRrHG"
      }
    },
    {
      "cell_type": "code",
      "source": [
        "import re\n",
        "\n",
        "## 파일(callcenter20250301.log) 오픈 및 읽기\n",
        "with open('callcenter20250301.log', 'r', encoding='utf-8') as f:\n",
        "    content = f.read()\n",
        "## 주민등록번호 패턴 생성\n",
        "pattern = re.compile(r'(\\d{6})-(\\d{7})')\n",
        "\n",
        "## 주민등록번호 마스킹\n",
        "masked_content = pattern.sub(r'\\1-*******', content)\n",
        "\n",
        "## 마스킹된 파일(callcenter20250301_masked.log) 오픈 및 쓰기\n",
        "with open('callcenter20250301_masked.log', mode='w') as f:\n",
        "    f.write(masked_content)\n",
        "\n",
        "print(\"주민등록번호 마스킹 완료. 'callcenter20250301_masked.log.txt' 파일로 저장되었습니다.\")"
      ],
      "metadata": {
        "id": "60qOf7uxVdAg",
        "outputId": "3814fec1-880d-4df5-d63f-d8b5ad873fd2",
        "colab": {
          "base_uri": "https://localhost:8080/"
        }
      },
      "execution_count": null,
      "outputs": [
        {
          "output_type": "stream",
          "name": "stdout",
          "text": [
            "주민등록번호 마스킹 완료. 'callcenter20250301_masked.log.txt' 파일로 저장되었습니다.\n"
          ]
        }
      ]
    },
    {
      "cell_type": "markdown",
      "source": [
        "## 4-4 Open-Meteo의 무료 날씨 API를 통한 특정 지역 온도 조회"
      ],
      "metadata": {
        "id": "eOMufu5SXiAU"
      }
    },
    {
      "cell_type": "code",
      "source": [
        "import requests\n",
        "import json\n",
        "\n",
        "url = \"https://api.open-meteo.com/v1/forecast?=&=&current=temperature_2m\"\n",
        "params = {\n",
        "    \"latitude\": \"37.58638333\",\n",
        "    \"longitude\": \"127.0203333\",\n",
        "    \"current\": \"temperature_2m\"\n",
        "}\n",
        "\n",
        "try:\n",
        "    ## URL 및 파라미터 전송\n",
        "    response = requests.get(url, params=params)\n",
        "    response.raise_for_status()\n",
        "\n",
        "    ## JSON 데이터 읽기\n",
        "    data = response.json()\n",
        "\n",
        "\n",
        "    print(\"API 응답:\", data)\n",
        "    print(\"서울시 종로구의 현재 온도는 : {0}{1} 입니다.\".format(data['current']['temperature_2m'], data['current_units']['temperature_2m']))\n",
        "\n",
        "except requests.exceptions.RequestException as e:\n",
        "    print(f\"API 호출 실패: {e}\")\n",
        "except json.JSONDecodeError as e:\n",
        "    print(f\"JSON 파싱 실패: {e}\")"
      ],
      "metadata": {
        "id": "JpmgdsW9V0CY",
        "outputId": "a207f0ab-05e1-4929-da07-b1b1d42eaa59",
        "colab": {
          "base_uri": "https://localhost:8080/"
        }
      },
      "execution_count": null,
      "outputs": [
        {
          "output_type": "stream",
          "name": "stdout",
          "text": [
            "API 응답: {'latitude': 37.6, 'longitude': 127.0, 'generationtime_ms': 0.02002716064453125, 'utc_offset_seconds': 0, 'timezone': 'GMT', 'timezone_abbreviation': 'GMT', 'elevation': 29.0, 'current_units': {'time': 'iso8601', 'interval': 'seconds', 'temperature_2m': '°C'}, 'current': {'time': '2025-09-16T14:15', 'interval': 900, 'temperature_2m': 23.6}}\n",
            "서울시 종로구의 현재 온도는 : 23.6°C 입니다.\n"
          ]
        }
      ]
    },
    {
      "cell_type": "markdown",
      "source": [
        "## 4-5 Selenium과 lxml을 이용한 웹 스크래핑"
      ],
      "metadata": {
        "id": "RLfPaa1ZiqIC"
      }
    },
    {
      "cell_type": "code",
      "source": [
        "!curl -o google-chrome-stable_current_amd64.deb https://dl.google.com/linux/direct/google-chrome-stable_current_amd64.deb\n",
        "!apt install ./google-chrome-stable_current_amd64.deb -y\n",
        "!pip install selenium webdriver_manager"
      ],
      "metadata": {
        "id": "79dmM7MNk8pB",
        "outputId": "238f07a0-86ca-46a3-c42a-daa15bbba707",
        "colab": {
          "base_uri": "https://localhost:8080/"
        }
      },
      "execution_count": null,
      "outputs": [
        {
          "output_type": "stream",
          "name": "stdout",
          "text": [
            "  % Total    % Received % Xferd  Average Speed   Time    Time     Time  Current\n",
            "                                 Dload  Upload   Total   Spent    Left  Speed\n",
            "100  115M  100  115M    0     0   296M      0 --:--:-- --:--:-- --:--:--  297M\n",
            "Reading package lists... Done\n",
            "Building dependency tree... Done\n",
            "Reading state information... Done\n",
            "Note, selecting 'google-chrome-stable' instead of './google-chrome-stable_current_amd64.deb'\n",
            "The following additional packages will be installed:\n",
            "  libvulkan1 mesa-vulkan-drivers\n",
            "The following NEW packages will be installed:\n",
            "  google-chrome-stable libvulkan1 mesa-vulkan-drivers\n",
            "0 upgraded, 3 newly installed, 0 to remove and 35 not upgraded.\n",
            "Need to get 10.9 MB/132 MB of archives.\n",
            "After this operation, 447 MB of additional disk space will be used.\n",
            "Get:1 http://archive.ubuntu.com/ubuntu jammy/main amd64 libvulkan1 amd64 1.3.204.1-2 [128 kB]\n",
            "Get:2 http://archive.ubuntu.com/ubuntu jammy-updates/main amd64 mesa-vulkan-drivers amd64 23.2.1-1ubuntu3.1~22.04.3 [10.7 MB]\n",
            "Get:3 /content/google-chrome-stable_current_amd64.deb google-chrome-stable amd64 140.0.7339.185-1 [121 MB]\n",
            "Fetched 10.9 MB in 2s (5,470 kB/s)\n",
            "Selecting previously unselected package libvulkan1:amd64.\n",
            "(Reading database ... 126435 files and directories currently installed.)\n",
            "Preparing to unpack .../libvulkan1_1.3.204.1-2_amd64.deb ...\n",
            "Unpacking libvulkan1:amd64 (1.3.204.1-2) ...\n",
            "Selecting previously unselected package google-chrome-stable.\n",
            "Preparing to unpack .../google-chrome-stable_current_amd64.deb ...\n",
            "Unpacking google-chrome-stable (140.0.7339.185-1) ...\n",
            "Selecting previously unselected package mesa-vulkan-drivers:amd64.\n",
            "Preparing to unpack .../mesa-vulkan-drivers_23.2.1-1ubuntu3.1~22.04.3_amd64.deb ...\n",
            "Unpacking mesa-vulkan-drivers:amd64 (23.2.1-1ubuntu3.1~22.04.3) ...\n",
            "Setting up libvulkan1:amd64 (1.3.204.1-2) ...\n",
            "Setting up mesa-vulkan-drivers:amd64 (23.2.1-1ubuntu3.1~22.04.3) ...\n",
            "Setting up google-chrome-stable (140.0.7339.185-1) ...\n",
            "update-alternatives: using /usr/bin/google-chrome-stable to provide /usr/bin/x-www-browser (x-www-browser) in auto mode\n",
            "update-alternatives: using /usr/bin/google-chrome-stable to provide /usr/bin/gnome-www-browser (gnome-www-browser) in auto mode\n",
            "update-alternatives: using /usr/bin/google-chrome-stable to provide /usr/bin/google-chrome (google-chrome) in auto mode\n",
            "Processing triggers for man-db (2.10.2-1) ...\n",
            "Processing triggers for mailcap (3.70+nmu1ubuntu1) ...\n",
            "Processing triggers for libc-bin (2.35-0ubuntu3.8) ...\n",
            "/sbin/ldconfig.real: /usr/local/lib/libtcm_debug.so.1 is not a symbolic link\n",
            "\n",
            "/sbin/ldconfig.real: /usr/local/lib/libhwloc.so.15 is not a symbolic link\n",
            "\n",
            "/sbin/ldconfig.real: /usr/local/lib/libtbbmalloc.so.2 is not a symbolic link\n",
            "\n",
            "/sbin/ldconfig.real: /usr/local/lib/libumf.so.0 is not a symbolic link\n",
            "\n",
            "/sbin/ldconfig.real: /usr/local/lib/libtbbbind_2_0.so.3 is not a symbolic link\n",
            "\n",
            "/sbin/ldconfig.real: /usr/local/lib/libtbbbind.so.3 is not a symbolic link\n",
            "\n",
            "/sbin/ldconfig.real: /usr/local/lib/libur_adapter_level_zero.so.0 is not a symbolic link\n",
            "\n",
            "/sbin/ldconfig.real: /usr/local/lib/libtbb.so.12 is not a symbolic link\n",
            "\n",
            "/sbin/ldconfig.real: /usr/local/lib/libur_adapter_opencl.so.0 is not a symbolic link\n",
            "\n",
            "/sbin/ldconfig.real: /usr/local/lib/libtbbbind_2_5.so.3 is not a symbolic link\n",
            "\n",
            "/sbin/ldconfig.real: /usr/local/lib/libtcm.so.1 is not a symbolic link\n",
            "\n",
            "/sbin/ldconfig.real: /usr/local/lib/libtbbmalloc_proxy.so.2 is not a symbolic link\n",
            "\n",
            "/sbin/ldconfig.real: /usr/local/lib/libur_adapter_level_zero_v2.so.0 is not a symbolic link\n",
            "\n",
            "/sbin/ldconfig.real: /usr/local/lib/libur_loader.so.0 is not a symbolic link\n",
            "\n",
            "Collecting selenium\n",
            "  Downloading selenium-4.35.0-py3-none-any.whl.metadata (7.4 kB)\n",
            "Collecting webdriver_manager\n",
            "  Downloading webdriver_manager-4.0.2-py2.py3-none-any.whl.metadata (12 kB)\n",
            "Requirement already satisfied: urllib3<3.0,>=2.5.0 in /usr/local/lib/python3.12/dist-packages (from urllib3[socks]<3.0,>=2.5.0->selenium) (2.5.0)\n",
            "Collecting trio~=0.30.0 (from selenium)\n",
            "  Downloading trio-0.30.0-py3-none-any.whl.metadata (8.5 kB)\n",
            "Collecting trio-websocket~=0.12.2 (from selenium)\n",
            "  Downloading trio_websocket-0.12.2-py3-none-any.whl.metadata (5.1 kB)\n",
            "Requirement already satisfied: certifi>=2025.6.15 in /usr/local/lib/python3.12/dist-packages (from selenium) (2025.8.3)\n",
            "Collecting typing_extensions~=4.14.0 (from selenium)\n",
            "  Downloading typing_extensions-4.14.1-py3-none-any.whl.metadata (3.0 kB)\n",
            "Requirement already satisfied: websocket-client~=1.8.0 in /usr/local/lib/python3.12/dist-packages (from selenium) (1.8.0)\n",
            "Requirement already satisfied: requests in /usr/local/lib/python3.12/dist-packages (from webdriver_manager) (2.32.4)\n",
            "Requirement already satisfied: python-dotenv in /usr/local/lib/python3.12/dist-packages (from webdriver_manager) (1.1.1)\n",
            "Requirement already satisfied: packaging in /usr/local/lib/python3.12/dist-packages (from webdriver_manager) (25.0)\n",
            "Requirement already satisfied: attrs>=23.2.0 in /usr/local/lib/python3.12/dist-packages (from trio~=0.30.0->selenium) (25.3.0)\n",
            "Requirement already satisfied: sortedcontainers in /usr/local/lib/python3.12/dist-packages (from trio~=0.30.0->selenium) (2.4.0)\n",
            "Requirement already satisfied: idna in /usr/local/lib/python3.12/dist-packages (from trio~=0.30.0->selenium) (3.10)\n",
            "Collecting outcome (from trio~=0.30.0->selenium)\n",
            "  Downloading outcome-1.3.0.post0-py2.py3-none-any.whl.metadata (2.6 kB)\n",
            "Requirement already satisfied: sniffio>=1.3.0 in /usr/local/lib/python3.12/dist-packages (from trio~=0.30.0->selenium) (1.3.1)\n",
            "Collecting wsproto>=0.14 (from trio-websocket~=0.12.2->selenium)\n",
            "  Downloading wsproto-1.2.0-py3-none-any.whl.metadata (5.6 kB)\n",
            "Requirement already satisfied: pysocks!=1.5.7,<2.0,>=1.5.6 in /usr/local/lib/python3.12/dist-packages (from urllib3[socks]<3.0,>=2.5.0->selenium) (1.7.1)\n",
            "Requirement already satisfied: charset_normalizer<4,>=2 in /usr/local/lib/python3.12/dist-packages (from requests->webdriver_manager) (3.4.3)\n",
            "Requirement already satisfied: h11<1,>=0.9.0 in /usr/local/lib/python3.12/dist-packages (from wsproto>=0.14->trio-websocket~=0.12.2->selenium) (0.16.0)\n",
            "Downloading selenium-4.35.0-py3-none-any.whl (9.6 MB)\n",
            "\u001b[2K   \u001b[90m━━━━━━━━━━━━━━━━━━━━━━━━━━━━━━━━━━━━━━━━\u001b[0m \u001b[32m9.6/9.6 MB\u001b[0m \u001b[31m74.3 MB/s\u001b[0m eta \u001b[36m0:00:00\u001b[0m\n",
            "\u001b[?25hDownloading webdriver_manager-4.0.2-py2.py3-none-any.whl (27 kB)\n",
            "Downloading trio-0.30.0-py3-none-any.whl (499 kB)\n",
            "\u001b[2K   \u001b[90m━━━━━━━━━━━━━━━━━━━━━━━━━━━━━━━━━━━━━━━━\u001b[0m \u001b[32m499.2/499.2 kB\u001b[0m \u001b[31m27.7 MB/s\u001b[0m eta \u001b[36m0:00:00\u001b[0m\n",
            "\u001b[?25hDownloading trio_websocket-0.12.2-py3-none-any.whl (21 kB)\n",
            "Downloading typing_extensions-4.14.1-py3-none-any.whl (43 kB)\n",
            "\u001b[2K   \u001b[90m━━━━━━━━━━━━━━━━━━━━━━━━━━━━━━━━━━━━━━━━\u001b[0m \u001b[32m43.9/43.9 kB\u001b[0m \u001b[31m2.6 MB/s\u001b[0m eta \u001b[36m0:00:00\u001b[0m\n",
            "\u001b[?25hDownloading outcome-1.3.0.post0-py2.py3-none-any.whl (10 kB)\n",
            "Downloading wsproto-1.2.0-py3-none-any.whl (24 kB)\n",
            "Installing collected packages: wsproto, typing_extensions, outcome, webdriver_manager, trio, trio-websocket, selenium\n",
            "  Attempting uninstall: typing_extensions\n",
            "    Found existing installation: typing_extensions 4.15.0\n",
            "    Uninstalling typing_extensions-4.15.0:\n",
            "      Successfully uninstalled typing_extensions-4.15.0\n",
            "Successfully installed outcome-1.3.0.post0 selenium-4.35.0 trio-0.30.0 trio-websocket-0.12.2 typing_extensions-4.14.1 webdriver_manager-4.0.2 wsproto-1.2.0\n"
          ]
        }
      ]
    },
    {
      "cell_type": "code",
      "source": [
        "from selenium import webdriver\n",
        "from selenium.webdriver.chrome.service import Service as ChromeService\n",
        "from webdriver_manager.chrome import ChromeDriverManager\n",
        "from selenium.webdriver.common.by import By\n",
        "from lxml import html\n",
        "import time\n",
        "\n",
        "chrome_options = webdriver.ChromeOptions()\n",
        "chrome_options.add_argument('--headless')               # 브라우저 창 없이 실행\n",
        "chrome_options.add_argument('--no-sandbox')             # 보안모드 비활성화 (Colab 필수)\n",
        "chrome_options.add_argument('--disable-dev-shm-usage')  # 메모리 부족 방지 (Colab 필수)\n",
        "chrome_options.add_argument('--window-size=1920x1080')  # 창 크기 설정(가상)\n",
        "chrome_options.add_argument('--disable-gpu')            # GPU 가속 비활성화 (일부 환경 안정성)\n",
        "chrome_options.binary_location = \"/usr/bin/google-chrome-stable\"  # Colab용 크롬 경로 지정\n",
        "\n",
        "## 드라이버 실행\n",
        "driver = webdriver.Chrome(options=chrome_options)\n",
        "\n",
        "## 사이트 접속\n",
        "url = 'https://professor.knou.ac.kr/jaehwachung/index.do'\n",
        "driver.get(url)\n",
        "\n",
        "## 사이트 접속 대기\n",
        "time.sleep(2)\n",
        "\n",
        "## 페이지 제목 출력\n",
        "page_source = driver.page_source\n",
        "tree = html.fromstring(page_source)\n",
        "\n",
        "title_text = tree.xpath('//title/text()')\n",
        "print(title_text)\n",
        "\n",
        "## 드라이버 종료\n",
        "driver.quit()"
      ],
      "metadata": {
        "id": "cRC8x3_iW0im",
        "outputId": "f3d58fbc-3ec4-4ab4-d076-27a7365fa820",
        "colab": {
          "base_uri": "https://localhost:8080/"
        }
      },
      "execution_count": null,
      "outputs": [
        {
          "output_type": "stream",
          "name": "stdout",
          "text": [
            "['\\n\\t\\tAlert \\n\\t\\t\\n\\t']\n"
          ]
        }
      ]
    },
    {
      "cell_type": "markdown",
      "source": [
        "\n",
        "# 실습 시나리오"
      ],
      "metadata": {
        "id": "Bu6OMZyGirOq"
      }
    },
    {
      "cell_type": "markdown",
      "source": [
        "## 공공데이터 포털 가입 및 데이터 신청\n",
        "\n",
        "- [https://www.data.go.kr](https://www.data.go.kr)\n",
        "- 한국환경공단 에어코리아 대기오염정보 데이터 신청"
      ],
      "metadata": {
        "id": "nsuqRN9RkZlW"
      }
    },
    {
      "cell_type": "code",
      "source": [
        "import requests\n",
        "\n",
        "## 교재를 통해 포털 가입하고 api key 발급을 받아야 한다\n",
        "\n",
        "## 데이터 수집 url 및 api key 설정\n",
        "url = 'http://apis.data.go.kr/B552584/ArpltnInforInqireSvc/getCtprvnRltmMesureDnsty'\n",
        "api_key = ''\n",
        "\n",
        "params = {\n",
        "    'serviceKey': api_key,\n",
        "    'returnType': 'json',\n",
        "    'numOfRows': '100',\n",
        "    'pageNo': '1',\n",
        "    'sidoName': '서울',\n",
        "    'ver': '1.0'\n",
        "}\n",
        "\n",
        "## 데이터 수집\n",
        "response = requests.get(url, params=params)\n",
        "\n",
        "## 호출 성공/실패 출력\n",
        "print(response.json())\n"
      ],
      "metadata": {
        "id": "7yCozmQeXJcO",
        "outputId": "9f255e69-18fb-4804-d9cf-9e9f2c60b7eb",
        "colab": {
          "base_uri": "https://localhost:8080/"
        }
      },
      "execution_count": null,
      "outputs": [
        {
          "output_type": "stream",
          "name": "stdout",
          "text": [
            "{'response': {'body': {'totalCount': 40, 'items': [{'so2Grade': '1', 'coFlag': None, 'khaiValue': '46', 'so2Value': '0.002', 'coValue': '0.2', 'pm25Flag': None, 'pm10Flag': None, 'o3Grade': '1', 'pm10Value': '8', 'khaiGrade': '1', 'pm25Value': '5', 'sidoName': '서울', 'no2Flag': None, 'no2Grade': '1', 'o3Flag': None, 'pm25Grade': '1', 'so2Flag': None, 'dataTime': '2025-09-21 23:00', 'coGrade': '1', 'no2Value': '0.012', 'stationName': '중구', 'pm10Grade': '1', 'o3Value': '0.028'}, {'so2Grade': '1', 'coFlag': None, 'khaiValue': '37', 'so2Value': '0.003', 'coValue': '0.4', 'pm25Flag': None, 'pm10Flag': None, 'o3Grade': '1', 'pm10Value': '8', 'khaiGrade': '1', 'pm25Value': '5', 'sidoName': '서울', 'no2Flag': None, 'no2Grade': '1', 'o3Flag': None, 'pm25Grade': None, 'so2Flag': None, 'dataTime': '2025-09-21 23:00', 'coGrade': '1', 'no2Value': '0.012', 'stationName': '한강대로', 'pm10Grade': '1', 'o3Value': '0.022'}, {'so2Grade': '1', 'coFlag': None, 'khaiValue': '-', 'so2Value': '0.002', 'coValue': '0.2', 'pm25Flag': None, 'pm10Flag': None, 'o3Grade': '1', 'pm10Value': '8', 'khaiGrade': None, 'pm25Value': '2', 'sidoName': '서울', 'no2Flag': None, 'no2Grade': '1', 'o3Flag': None, 'pm25Grade': None, 'so2Flag': None, 'dataTime': '2025-09-21 23:00', 'coGrade': '1', 'no2Value': '0.013', 'stationName': '종로구', 'pm10Grade': '1', 'o3Value': '0.029'}, {'so2Grade': '1', 'coFlag': None, 'khaiValue': '-', 'so2Value': '0.003', 'coValue': '0.3', 'pm25Flag': None, 'pm10Flag': None, 'o3Grade': '1', 'pm10Value': '10', 'khaiGrade': None, 'pm25Value': '3', 'sidoName': '서울', 'no2Flag': None, 'no2Grade': '1', 'o3Flag': None, 'pm25Grade': None, 'so2Flag': None, 'dataTime': '2025-09-21 23:00', 'coGrade': '1', 'no2Value': '0.012', 'stationName': '청계천로', 'pm10Grade': '1', 'o3Value': '0.024'}, {'so2Grade': '1', 'coFlag': None, 'khaiValue': '-', 'so2Value': '0.002', 'coValue': '0.3', 'pm25Flag': '통신장애', 'pm10Flag': None, 'o3Grade': '1', 'pm10Value': '9', 'khaiGrade': None, 'pm25Value': '-', 'sidoName': '서울', 'no2Flag': None, 'no2Grade': '1', 'o3Flag': None, 'pm25Grade': None, 'so2Flag': None, 'dataTime': '2025-09-21 23:00', 'coGrade': '1', 'no2Value': '0.013', 'stationName': '종로', 'pm10Grade': '1', 'o3Value': '0.022'}, {'so2Grade': '1', 'coFlag': None, 'khaiValue': '40', 'so2Value': '0.002', 'coValue': '0.2', 'pm25Flag': None, 'pm10Flag': None, 'o3Grade': '1', 'pm10Value': '7', 'khaiGrade': '1', 'pm25Value': '4', 'sidoName': '서울', 'no2Flag': None, 'no2Grade': '1', 'o3Flag': None, 'pm25Grade': '1', 'so2Flag': None, 'dataTime': '2025-09-21 23:00', 'coGrade': '1', 'no2Value': '0.010', 'stationName': '용산구', 'pm10Grade': '1', 'o3Value': '0.024'}, {'so2Grade': '1', 'coFlag': None, 'khaiValue': '49', 'so2Value': '0.003', 'coValue': '0.3', 'pm25Flag': None, 'pm10Flag': None, 'o3Grade': '1', 'pm10Value': '9', 'khaiGrade': '1', 'pm25Value': '4', 'sidoName': '서울', 'no2Flag': None, 'no2Grade': '1', 'o3Flag': None, 'pm25Grade': '1', 'so2Flag': None, 'dataTime': '2025-09-21 23:00', 'coGrade': '1', 'no2Value': '0.009', 'stationName': '광진구', 'pm10Grade': '1', 'o3Value': '0.029'}, {'so2Grade': '1', 'coFlag': None, 'khaiValue': '48', 'so2Value': '0.002', 'coValue': '0.2', 'pm25Flag': None, 'pm10Flag': None, 'o3Grade': '1', 'pm10Value': '5', 'khaiGrade': '1', 'pm25Value': '6', 'sidoName': '서울', 'no2Flag': None, 'no2Grade': '1', 'o3Flag': None, 'pm25Grade': '1', 'so2Flag': None, 'dataTime': '2025-09-21 23:00', 'coGrade': '1', 'no2Value': '0.009', 'stationName': '성동구', 'pm10Grade': '1', 'o3Value': '0.029'}, {'so2Grade': '1', 'coFlag': None, 'khaiValue': '-', 'so2Value': '0.003', 'coValue': '0.2', 'pm25Flag': None, 'pm10Flag': None, 'o3Grade': '1', 'pm10Value': '8', 'khaiGrade': None, 'pm25Value': '4', 'sidoName': '서울', 'no2Flag': None, 'no2Grade': '1', 'o3Flag': None, 'pm25Grade': None, 'so2Flag': None, 'dataTime': '2025-09-21 23:00', 'coGrade': '1', 'no2Value': '0.006', 'stationName': '강변북로', 'pm10Grade': '1', 'o3Value': '0.028'}, {'so2Grade': '1', 'coFlag': None, 'khaiValue': '-', 'so2Value': '0.002', 'coValue': '0.2', 'pm25Flag': None, 'pm10Flag': None, 'o3Grade': '1', 'pm10Value': '9', 'khaiGrade': None, 'pm25Value': '2', 'sidoName': '서울', 'no2Flag': None, 'no2Grade': '1', 'o3Flag': None, 'pm25Grade': None, 'so2Flag': None, 'dataTime': '2025-09-21 23:00', 'coGrade': '1', 'no2Value': '0.005', 'stationName': '중랑구', 'pm10Grade': '1', 'o3Value': '0.029'}, {'so2Grade': '1', 'coFlag': None, 'khaiValue': '42', 'so2Value': '0.002', 'coValue': '0.2', 'pm25Flag': None, 'pm10Flag': None, 'o3Grade': '1', 'pm10Value': '7', 'khaiGrade': '1', 'pm25Value': '5', 'sidoName': '서울', 'no2Flag': None, 'no2Grade': '1', 'o3Flag': None, 'pm25Grade': '1', 'so2Flag': None, 'dataTime': '2025-09-21 23:00', 'coGrade': '1', 'no2Value': '0.013', 'stationName': '동대문구', 'pm10Grade': '1', 'o3Value': '0.025'}, {'so2Grade': '1', 'coFlag': None, 'khaiValue': '-', 'so2Value': '0.002', 'coValue': '0.3', 'pm25Flag': None, 'pm10Flag': None, 'o3Grade': '1', 'pm10Value': '13', 'khaiGrade': None, 'pm25Value': '6', 'sidoName': '서울', 'no2Flag': None, 'no2Grade': '1', 'o3Flag': None, 'pm25Grade': None, 'so2Flag': None, 'dataTime': '2025-09-21 23:00', 'coGrade': '1', 'no2Value': '0.015', 'stationName': '홍릉로', 'pm10Grade': '1', 'o3Value': '0.024'}, {'so2Grade': '1', 'coFlag': None, 'khaiValue': '28', 'so2Value': '0.003', 'coValue': '0.3', 'pm25Flag': None, 'pm10Flag': None, 'o3Grade': '1', 'pm10Value': '7', 'khaiGrade': '1', 'pm25Value': '8', 'sidoName': '서울', 'no2Flag': None, 'no2Grade': '1', 'o3Flag': None, 'pm25Grade': '1', 'so2Flag': None, 'dataTime': '2025-09-21 23:00', 'coGrade': '1', 'no2Value': '0.014', 'stationName': '성북구', 'pm10Grade': '1', 'o3Value': '0.017'}, {'so2Grade': '1', 'coFlag': None, 'khaiValue': '-', 'so2Value': '0.002', 'coValue': '0.4', 'pm25Flag': None, 'pm10Flag': None, 'o3Grade': '1', 'pm10Value': '15', 'khaiGrade': None, 'pm25Value': '5', 'sidoName': '서울', 'no2Flag': None, 'no2Grade': '1', 'o3Flag': None, 'pm25Grade': None, 'so2Flag': None, 'dataTime': '2025-09-21 23:00', 'coGrade': '1', 'no2Value': '0.019', 'stationName': '정릉로', 'pm10Grade': '1', 'o3Value': '0.018'}, {'so2Grade': '1', 'coFlag': None, 'khaiValue': '42', 'so2Value': '0.003', 'coValue': '0.2', 'pm25Flag': None, 'pm10Flag': None, 'o3Grade': '1', 'pm10Value': '10', 'khaiGrade': '1', 'pm25Value': '6', 'sidoName': '서울', 'no2Flag': None, 'no2Grade': '1', 'o3Flag': None, 'pm25Grade': '1', 'so2Flag': None, 'dataTime': '2025-09-21 23:00', 'coGrade': '1', 'no2Value': '0.006', 'stationName': '도봉구', 'pm10Grade': '1', 'o3Value': '0.025'}, {'so2Grade': '1', 'coFlag': None, 'khaiValue': '-', 'so2Value': '0.002', 'coValue': '0.2', 'pm25Flag': None, 'pm10Flag': None, 'o3Grade': '1', 'pm10Value': '7', 'khaiGrade': None, 'pm25Value': '1', 'sidoName': '서울', 'no2Flag': None, 'no2Grade': '1', 'o3Flag': None, 'pm25Grade': None, 'so2Flag': None, 'dataTime': '2025-09-21 23:00', 'coGrade': '1', 'no2Value': '0.006', 'stationName': '은평구', 'pm10Grade': '1', 'o3Value': '0.023'}, {'so2Grade': '1', 'coFlag': None, 'khaiValue': '53', 'so2Value': '0.003', 'coValue': '0.3', 'pm25Flag': None, 'pm10Flag': None, 'o3Grade': '2', 'pm10Value': '6', 'khaiGrade': '2', 'pm25Value': '6', 'sidoName': '서울', 'no2Flag': None, 'no2Grade': '1', 'o3Flag': None, 'pm25Grade': '1', 'so2Flag': None, 'dataTime': '2025-09-21 23:00', 'coGrade': '1', 'no2Value': '0.003', 'stationName': '서대문구', 'pm10Grade': '1', 'o3Value': '0.033'}, {'so2Grade': '1', 'coFlag': None, 'khaiValue': '50', 'so2Value': '0.002', 'coValue': '0.3', 'pm25Flag': None, 'pm10Flag': None, 'o3Grade': '1', 'pm10Value': '8', 'khaiGrade': '1', 'pm25Value': '6', 'sidoName': '서울', 'no2Flag': None, 'no2Grade': '1', 'o3Flag': None, 'pm25Grade': '1', 'so2Flag': None, 'dataTime': '2025-09-21 23:00', 'coGrade': '1', 'no2Value': '0.009', 'stationName': '마포구', 'pm10Grade': '1', 'o3Value': '0.030'}, {'so2Grade': '1', 'coFlag': None, 'khaiValue': '-', 'so2Value': '0.002', 'coValue': '0.3', 'pm25Flag': None, 'pm10Flag': None, 'o3Grade': '1', 'pm10Value': '14', 'khaiGrade': None, 'pm25Value': '4', 'sidoName': '서울', 'no2Flag': None, 'no2Grade': '1', 'o3Flag': None, 'pm25Grade': None, 'so2Flag': None, 'dataTime': '2025-09-21 23:00', 'coGrade': '1', 'no2Value': '0.009', 'stationName': '신촌로', 'pm10Grade': '1', 'o3Value': '0.028'}, {'so2Grade': '1', 'coFlag': None, 'khaiValue': '-', 'so2Value': '0.002', 'coValue': '0.3', 'pm25Flag': None, 'pm10Flag': None, 'o3Grade': '1', 'pm10Value': '8', 'khaiGrade': None, 'pm25Value': '1', 'sidoName': '서울', 'no2Flag': None, 'no2Grade': '1', 'o3Flag': None, 'pm25Grade': None, 'so2Flag': None, 'dataTime': '2025-09-21 23:00', 'coGrade': '1', 'no2Value': '0.012', 'stationName': '강서구', 'pm10Grade': '1', 'o3Value': '0.025'}, {'so2Grade': '1', 'coFlag': None, 'khaiValue': '37', 'so2Value': '0.002', 'coValue': '0.3', 'pm25Flag': None, 'pm10Flag': None, 'o3Grade': '1', 'pm10Value': '11', 'khaiGrade': '1', 'pm25Value': '3', 'sidoName': '서울', 'no2Flag': None, 'no2Grade': '1', 'o3Flag': None, 'pm25Grade': '1', 'so2Flag': None, 'dataTime': '2025-09-21 23:00', 'coGrade': '1', 'no2Value': '0.014', 'stationName': '공항대로', 'pm10Grade': '1', 'o3Value': '0.022'}, {'so2Grade': '1', 'coFlag': None, 'khaiValue': '42', 'so2Value': '0.002', 'coValue': '0.3', 'pm25Flag': None, 'pm10Flag': None, 'o3Grade': '1', 'pm10Value': '11', 'khaiGrade': '1', 'pm25Value': '7', 'sidoName': '서울', 'no2Flag': None, 'no2Grade': '1', 'o3Flag': None, 'pm25Grade': '1', 'so2Flag': None, 'dataTime': '2025-09-21 23:00', 'coGrade': '1', 'no2Value': '0.009', 'stationName': '구로구', 'pm10Grade': '1', 'o3Value': '0.025'}, {'so2Grade': '1', 'coFlag': None, 'khaiValue': '42', 'so2Value': '0.002', 'coValue': '0.3', 'pm25Flag': None, 'pm10Flag': None, 'o3Grade': '1', 'pm10Value': '12', 'khaiGrade': '1', 'pm25Value': '6', 'sidoName': '서울', 'no2Flag': None, 'no2Grade': '1', 'o3Flag': None, 'pm25Grade': '1', 'so2Flag': None, 'dataTime': '2025-09-21 23:00', 'coGrade': '1', 'no2Value': '0.011', 'stationName': '영등포구', 'pm10Grade': '1', 'o3Value': '0.025'}, {'so2Grade': '1', 'coFlag': None, 'khaiValue': '38', 'so2Value': '0.002', 'coValue': '0.3', 'pm25Flag': '통신장애', 'pm10Flag': None, 'o3Grade': '1', 'pm10Value': '12', 'khaiGrade': '1', 'pm25Value': '-', 'sidoName': '서울', 'no2Flag': None, 'no2Grade': '1', 'o3Flag': None, 'pm25Grade': None, 'so2Flag': None, 'dataTime': '2025-09-21 23:00', 'coGrade': '1', 'no2Value': '0.015', 'stationName': '영등포로', 'pm10Grade': '1', 'o3Value': '0.023'}, {'so2Grade': '1', 'coFlag': None, 'khaiValue': '31', 'so2Value': '0.002', 'coValue': '0.3', 'pm25Flag': None, 'pm10Flag': None, 'o3Grade': '1', 'pm10Value': '10', 'khaiGrade': '1', 'pm25Value': '5', 'sidoName': '서울', 'no2Flag': None, 'no2Grade': '1', 'o3Flag': None, 'pm25Grade': '1', 'so2Flag': None, 'dataTime': '2025-09-21 23:00', 'coGrade': '1', 'no2Value': '0.018', 'stationName': '동작구', 'pm10Grade': '1', 'o3Value': '0.017'}, {'so2Grade': '1', 'coFlag': None, 'khaiValue': '-', 'so2Value': '0.002', 'coValue': '0.3', 'pm25Flag': '통신장애', 'pm10Flag': None, 'o3Grade': '1', 'pm10Value': '9', 'khaiGrade': None, 'pm25Value': '-', 'sidoName': '서울', 'no2Flag': None, 'no2Grade': '1', 'o3Flag': None, 'pm25Grade': None, 'so2Flag': None, 'dataTime': '2025-09-21 23:00', 'coGrade': '1', 'no2Value': '0.020', 'stationName': '동작대로 중앙차로', 'pm10Grade': '1', 'o3Value': '0.019'}, {'so2Grade': '1', 'coFlag': None, 'khaiValue': '39', 'so2Value': '0.002', 'coValue': '0.3', 'pm25Flag': None, 'pm10Flag': None, 'o3Grade': '1', 'pm10Value': '8', 'khaiGrade': '1', 'pm25Value': '4', 'sidoName': '서울', 'no2Flag': None, 'no2Grade': '1', 'o3Flag': None, 'pm25Grade': '1', 'so2Flag': None, 'dataTime': '2025-09-21 23:00', 'coGrade': '1', 'no2Value': '0.013', 'stationName': '관악구', 'pm10Grade': '1', 'o3Value': '0.023'}, {'so2Grade': '1', 'coFlag': None, 'khaiValue': '-', 'so2Value': '0.002', 'coValue': '0.3', 'pm25Flag': None, 'pm10Flag': None, 'o3Grade': '1', 'pm10Value': '9', 'khaiGrade': None, 'pm25Value': '3', 'sidoName': '서울', 'no2Flag': None, 'no2Grade': '1', 'o3Flag': None, 'pm25Grade': None, 'so2Flag': None, 'dataTime': '2025-09-21 23:00', 'coGrade': '1', 'no2Value': '0.012', 'stationName': '강남구', 'pm10Grade': '1', 'o3Value': '0.024'}, {'so2Grade': '1', 'coFlag': None, 'khaiValue': '46', 'so2Value': '0.002', 'coValue': '0.2', 'pm25Flag': None, 'pm10Flag': None, 'o3Grade': '1', 'pm10Value': '6', 'khaiGrade': '1', 'pm25Value': '5', 'sidoName': '서울', 'no2Flag': None, 'no2Grade': '1', 'o3Flag': None, 'pm25Grade': '1', 'so2Flag': None, 'dataTime': '2025-09-21 23:00', 'coGrade': '1', 'no2Value': '0.009', 'stationName': '서초구', 'pm10Grade': '1', 'o3Value': '0.027'}, {'so2Grade': '1', 'coFlag': None, 'khaiValue': '47', 'so2Value': '0.002', 'coValue': '0.2', 'pm25Flag': None, 'pm10Flag': None, 'o3Grade': '1', 'pm10Value': '10', 'khaiGrade': '1', 'pm25Value': '3', 'sidoName': '서울', 'no2Flag': None, 'no2Grade': '1', 'o3Flag': None, 'pm25Grade': '1', 'so2Flag': None, 'dataTime': '2025-09-21 23:00', 'coGrade': '1', 'no2Value': '0.010', 'stationName': '도산대로', 'pm10Grade': '1', 'o3Value': '0.028'}, {'so2Grade': '1', 'coFlag': None, 'khaiValue': '41', 'so2Value': '0.003', 'coValue': '0.6', 'pm25Flag': None, 'pm10Flag': None, 'o3Grade': '1', 'pm10Value': '10', 'khaiGrade': '1', 'pm25Value': '5', 'sidoName': '서울', 'no2Flag': None, 'no2Grade': '1', 'o3Flag': None, 'pm25Grade': None, 'so2Flag': None, 'dataTime': '2025-09-21 23:00', 'coGrade': '1', 'no2Value': '0.025', 'stationName': '강남대로', 'pm10Grade': '1', 'o3Value': '0.004'}, {'so2Grade': '1', 'coFlag': None, 'khaiValue': '44', 'so2Value': '0.002', 'coValue': '0.2', 'pm25Flag': None, 'pm10Flag': None, 'o3Grade': '1', 'pm10Value': '9', 'khaiGrade': '1', 'pm25Value': '1', 'sidoName': '서울', 'no2Flag': None, 'no2Grade': '1', 'o3Flag': None, 'pm25Grade': '1', 'so2Flag': None, 'dataTime': '2025-09-21 23:00', 'coGrade': '1', 'no2Value': '0.010', 'stationName': '송파구', 'pm10Grade': '1', 'o3Value': '0.027'}, {'so2Grade': '1', 'coFlag': None, 'khaiValue': '44', 'so2Value': '0.002', 'coValue': '0.6', 'pm25Flag': None, 'pm10Flag': None, 'o3Grade': '1', 'pm10Value': '12', 'khaiGrade': '1', 'pm25Value': '5', 'sidoName': '서울', 'no2Flag': None, 'no2Grade': '1', 'o3Flag': None, 'pm25Grade': '1', 'so2Flag': None, 'dataTime': '2025-09-21 23:00', 'coGrade': '1', 'no2Value': '0.008', 'stationName': '강동구', 'pm10Grade': '1', 'o3Value': '0.026'}, {'so2Grade': '1', 'coFlag': None, 'khaiValue': '-', 'so2Value': '0.002', 'coValue': '0.3', 'pm25Flag': None, 'pm10Flag': None, 'o3Grade': '1', 'pm10Value': '5', 'khaiGrade': None, 'pm25Value': '3', 'sidoName': '서울', 'no2Flag': None, 'no2Grade': '1', 'o3Flag': None, 'pm25Grade': None, 'so2Flag': None, 'dataTime': '2025-09-21 23:00', 'coGrade': '1', 'no2Value': '0.014', 'stationName': '천호대로', 'pm10Grade': '1', 'o3Value': '0.019'}, {'so2Grade': '1', 'coFlag': None, 'khaiValue': '29', 'so2Value': '0.002', 'coValue': '0.3', 'pm25Flag': None, 'pm10Flag': None, 'o3Grade': '1', 'pm10Value': '11', 'khaiGrade': '1', 'pm25Value': '7', 'sidoName': '서울', 'no2Flag': None, 'no2Grade': '1', 'o3Flag': None, 'pm25Grade': '1', 'so2Flag': None, 'dataTime': '2025-09-21 23:00', 'coGrade': '1', 'no2Value': '0.016', 'stationName': '금천구', 'pm10Grade': '1', 'o3Value': '0.017'}, {'so2Grade': '1', 'coFlag': None, 'khaiValue': '46', 'so2Value': '0.002', 'coValue': '0.4', 'pm25Flag': None, 'pm10Flag': None, 'o3Grade': '1', 'pm10Value': '10', 'khaiGrade': '1', 'pm25Value': '3', 'sidoName': '서울', 'no2Flag': None, 'no2Grade': '1', 'o3Flag': None, 'pm25Grade': '1', 'so2Flag': None, 'dataTime': '2025-09-21 23:00', 'coGrade': '1', 'no2Value': '0.028', 'stationName': '시흥대로', 'pm10Grade': '1', 'o3Value': '0.015'}, {'so2Grade': '1', 'coFlag': None, 'khaiValue': '-', 'so2Value': '0.002', 'coValue': '0.2', 'pm25Flag': None, 'pm10Flag': None, 'o3Grade': '1', 'pm10Value': '12', 'khaiGrade': None, 'pm25Value': '1', 'sidoName': '서울', 'no2Flag': None, 'no2Grade': '1', 'o3Flag': None, 'pm25Grade': None, 'so2Flag': None, 'dataTime': '2025-09-21 23:00', 'coGrade': '1', 'no2Value': '0.004', 'stationName': '강북구', 'pm10Grade': '1', 'o3Value': '0.023'}, {'so2Grade': '1', 'coFlag': None, 'khaiValue': '51', 'so2Value': '0.002', 'coValue': '0.2', 'pm25Flag': None, 'pm10Flag': None, 'o3Grade': '2', 'pm10Value': '12', 'khaiGrade': '2', 'pm25Value': '4', 'sidoName': '서울', 'no2Flag': None, 'no2Grade': '1', 'o3Flag': None, 'pm25Grade': '1', 'so2Flag': None, 'dataTime': '2025-09-21 23:00', 'coGrade': '1', 'no2Value': '0.009', 'stationName': '양천구', 'pm10Grade': '1', 'o3Value': '0.030'}, {'so2Grade': '1', 'coFlag': None, 'khaiValue': '32', 'so2Value': '0.002', 'coValue': '0.3', 'pm25Flag': None, 'pm10Flag': None, 'o3Grade': '1', 'pm10Value': '9', 'khaiGrade': '1', 'pm25Value': '6', 'sidoName': '서울', 'no2Flag': None, 'no2Grade': '1', 'o3Flag': None, 'pm25Grade': '1', 'so2Flag': None, 'dataTime': '2025-09-21 23:00', 'coGrade': '1', 'no2Value': '0.014', 'stationName': '노원구', 'pm10Grade': '1', 'o3Value': '0.019'}, {'so2Grade': '1', 'coFlag': None, 'khaiValue': '-', 'so2Value': '0.002', 'coValue': '0.4', 'pm25Flag': None, 'pm10Flag': None, 'o3Grade': '1', 'pm10Value': '9', 'khaiGrade': None, 'pm25Value': '4', 'sidoName': '서울', 'no2Flag': None, 'no2Grade': '1', 'o3Flag': None, 'pm25Grade': None, 'so2Flag': None, 'dataTime': '2025-09-21 23:00', 'coGrade': '1', 'no2Value': '0.021', 'stationName': '화랑로', 'pm10Grade': '1', 'o3Value': '0.015'}], 'pageNo': 1, 'numOfRows': 100}, 'header': {'resultMsg': 'NORMAL_CODE', 'resultCode': '00'}}}\n"
          ]
        }
      ]
    },
    {
      "cell_type": "markdown",
      "source": [
        "# 중간과제물 연습장"
      ],
      "metadata": {
        "id": "JrtwWvwGlHVO"
      }
    },
    {
      "cell_type": "code",
      "source": [
        "!sudo apt-get install -y fonts-nanum\n",
        "!sudo fc-cache -fv\n",
        "!rm ~/.cache/matplotlib -rf"
      ],
      "metadata": {
        "id": "HjdaZQ7b6-CC",
        "outputId": "801fe20f-a08d-4d97-ed5c-13535cd4bc36",
        "colab": {
          "base_uri": "https://localhost:8080/"
        }
      },
      "execution_count": 8,
      "outputs": [
        {
          "output_type": "stream",
          "name": "stdout",
          "text": [
            "Reading package lists... Done\n",
            "Building dependency tree... Done\n",
            "Reading state information... Done\n",
            "The following NEW packages will be installed:\n",
            "  fonts-nanum\n",
            "0 upgraded, 1 newly installed, 0 to remove and 38 not upgraded.\n",
            "Need to get 10.3 MB of archives.\n",
            "After this operation, 34.1 MB of additional disk space will be used.\n",
            "Get:1 http://archive.ubuntu.com/ubuntu jammy/universe amd64 fonts-nanum all 20200506-1 [10.3 MB]\n",
            "Fetched 10.3 MB in 1s (8,350 kB/s)\n",
            "debconf: unable to initialize frontend: Dialog\n",
            "debconf: (No usable dialog-like program is installed, so the dialog based frontend cannot be used. at /usr/share/perl5/Debconf/FrontEnd/Dialog.pm line 78, <> line 1.)\n",
            "debconf: falling back to frontend: Readline\n",
            "debconf: unable to initialize frontend: Readline\n",
            "debconf: (This frontend requires a controlling tty.)\n",
            "debconf: falling back to frontend: Teletype\n",
            "dpkg-preconfigure: unable to re-open stdin: \n",
            "Selecting previously unselected package fonts-nanum.\n",
            "(Reading database ... 126675 files and directories currently installed.)\n",
            "Preparing to unpack .../fonts-nanum_20200506-1_all.deb ...\n",
            "Unpacking fonts-nanum (20200506-1) ...\n",
            "Setting up fonts-nanum (20200506-1) ...\n",
            "Processing triggers for fontconfig (2.13.1-4.2ubuntu5) ...\n",
            "/usr/share/fonts: caching, new cache contents: 0 fonts, 1 dirs\n",
            "/usr/share/fonts/truetype: caching, new cache contents: 0 fonts, 3 dirs\n",
            "/usr/share/fonts/truetype/humor-sans: caching, new cache contents: 1 fonts, 0 dirs\n",
            "/usr/share/fonts/truetype/liberation: caching, new cache contents: 16 fonts, 0 dirs\n",
            "/usr/share/fonts/truetype/nanum: caching, new cache contents: 12 fonts, 0 dirs\n",
            "/usr/local/share/fonts: caching, new cache contents: 0 fonts, 0 dirs\n",
            "/root/.local/share/fonts: skipping, no such directory\n",
            "/root/.fonts: skipping, no such directory\n",
            "/usr/share/fonts/truetype: skipping, looped directory detected\n",
            "/usr/share/fonts/truetype/humor-sans: skipping, looped directory detected\n",
            "/usr/share/fonts/truetype/liberation: skipping, looped directory detected\n",
            "/usr/share/fonts/truetype/nanum: skipping, looped directory detected\n",
            "/var/cache/fontconfig: cleaning cache directory\n",
            "/root/.cache/fontconfig: not cleaning non-existent cache directory\n",
            "/root/.fontconfig: not cleaning non-existent cache directory\n",
            "fc-cache: succeeded\n"
          ]
        }
      ]
    },
    {
      "cell_type": "code",
      "source": [
        "import matplotlib.font_manager as fm\n",
        "\n",
        "font_list = fm.findSystemFonts(fontpaths = None, fontext = 'ttf')\n",
        "font_list[:]"
      ],
      "metadata": {
        "id": "sskHDEsuJHkf",
        "outputId": "6bb6d518-ba08-4fb7-cc04-7c754dd9b85a",
        "colab": {
          "base_uri": "https://localhost:8080/"
        }
      },
      "execution_count": null,
      "outputs": [
        {
          "output_type": "execute_result",
          "data": {
            "text/plain": [
              "['/usr/share/fonts/truetype/liberation/LiberationMono-BoldItalic.ttf',\n",
              " '/usr/share/fonts/truetype/liberation/LiberationSans-Italic.ttf',\n",
              " '/usr/share/fonts/truetype/nanum/NanumGothicCoding.ttf',\n",
              " '/usr/share/fonts/truetype/nanum/NanumMyeongjo.ttf',\n",
              " '/usr/share/fonts/truetype/liberation/LiberationMono-Regular.ttf',\n",
              " '/usr/share/fonts/truetype/nanum/NanumMyeongjoBold.ttf',\n",
              " '/usr/share/fonts/truetype/liberation/LiberationSans-Bold.ttf',\n",
              " '/usr/share/fonts/truetype/nanum/NanumSquareRoundB.ttf',\n",
              " '/usr/share/fonts/truetype/liberation/LiberationSansNarrow-BoldItalic.ttf',\n",
              " '/usr/share/fonts/truetype/nanum/NanumBarunGothic.ttf',\n",
              " '/usr/share/fonts/truetype/liberation/LiberationSans-Regular.ttf',\n",
              " '/usr/share/fonts/truetype/liberation/LiberationSerif-Bold.ttf',\n",
              " '/usr/share/fonts/truetype/liberation/LiberationSansNarrow-Regular.ttf',\n",
              " '/usr/share/fonts/truetype/liberation/LiberationSans-BoldItalic.ttf',\n",
              " '/usr/share/fonts/truetype/nanum/NanumBarunGothicBold.ttf',\n",
              " '/usr/share/fonts/truetype/liberation/LiberationSerif-Italic.ttf',\n",
              " '/usr/share/fonts/truetype/liberation/LiberationSerif-Regular.ttf',\n",
              " '/usr/share/fonts/truetype/nanum/NanumSquareR.ttf',\n",
              " '/usr/share/fonts/truetype/nanum/NanumSquareRoundR.ttf',\n",
              " '/usr/share/fonts/truetype/liberation/LiberationMono-Bold.ttf',\n",
              " '/usr/share/fonts/truetype/liberation/LiberationSansNarrow-Bold.ttf',\n",
              " '/usr/share/fonts/truetype/nanum/NanumGothicBold.ttf',\n",
              " '/usr/share/fonts/truetype/nanum/NanumGothic.ttf',\n",
              " '/usr/share/fonts/truetype/humor-sans/Humor-Sans.ttf',\n",
              " '/usr/share/fonts/truetype/nanum/NanumSquareB.ttf',\n",
              " '/usr/share/fonts/truetype/liberation/LiberationSansNarrow-Italic.ttf',\n",
              " '/usr/share/fonts/truetype/liberation/LiberationMono-Italic.ttf',\n",
              " '/usr/share/fonts/truetype/liberation/LiberationSerif-BoldItalic.ttf',\n",
              " '/usr/share/fonts/truetype/nanum/NanumGothicCodingBold.ttf']"
            ]
          },
          "metadata": {},
          "execution_count": 66
        }
      ]
    },
    {
      "cell_type": "code",
      "source": [
        "import requests\n",
        "import json\n",
        "import pandas as pd\n",
        "import matplotlib.pyplot as plt\n",
        "\n",
        "API_KEY = ''\n",
        "energy_data = []\n",
        "\n",
        "\n",
        "def get_year_month():\n",
        "    year_month = []\n",
        "    for year in range(2015, 2024+1):\n",
        "        for month in range(1, 12+1):\n",
        "            year_month.append((year, f'{month:02d}'))\n",
        "    return year_month\n",
        "\n",
        "\n",
        "try:\n",
        "    for year, month in get_year_month():\n",
        "        url = f'http://openapi.seoul.go.kr:8088/{API_KEY}/json/energyUseDataSummaryInfo/1/100/{year}/{month}'\n",
        "\n",
        "        response = requests.get(url)\n",
        "        response.raise_for_status()\n",
        "\n",
        "        data = response.json()\n",
        "        data_rows = data['energyUseDataSummaryInfo']['row']\n",
        "\n",
        "        for row in data_rows:\n",
        "            if row['MM_TYPE'] != '개인':\n",
        "                continue\n",
        "\n",
        "            record = {\n",
        "                '연도': row['YEAR'],\n",
        "                '월': row['MON'],\n",
        "                '전기사용량': row['EUS'],\n",
        "                '가스사용량': row['GUS'],\n",
        "                '수도사용량': row['WUS'],\n",
        "                '지역난방사용량': row['HUS']\n",
        "            }\n",
        "            energy_data.append(record)\n",
        "\n",
        "    df = pd.DataFrame(energy_data)\n",
        "\n",
        "    ym_cols = ['연도', '월']\n",
        "    usage_cols = ['전기사용량', '가스사용량', '수도사용량', '지역난방사용량']\n",
        "    df[ym_cols] = df[ym_cols].apply(pd.to_numeric, errors='coerce')\n",
        "    df[usage_cols] = df[usage_cols].apply(pd.to_numeric, errors='coerce')\n",
        "\n",
        "    df['year'] = df['연도']\n",
        "    df['season'] = df['월'].apply(lambda x: '겨울' if x <= 2 or x == 12 else\n",
        "                                            '봄' if 3 <= x <= 5 else\n",
        "                                            '여름' if 6 <= x <= 8 else\n",
        "                                            '가을' if 9 <= x <= 11 else\n",
        "                                            None)\n",
        "\n",
        "\n",
        "    df['총사용량'] = df[usage_cols].sum(axis=1)\n",
        "    print(df)\n",
        "    total_usage = df.groupby('year')['총사용량'].sum().reset_index()\n",
        "    print(total_usage)\n",
        "\n",
        "    plt.rc('font', family='NanumBarunGothic')\n",
        "    plt.figure(figsize=(12, 6))\n",
        "    plt.plot(total_usage['year'], total_usage['총사용량'])\n",
        "    plt.title(\"연도별 에너지 총 사용량 변화 - 4538\")\n",
        "    plt.xlabel(\"연도\")\n",
        "    plt.ylabel(\"에너지 총 사용량\")\n",
        "    plt.xticks(total_usage['year'])\n",
        "    plt.ticklabel_format(style='plain', axis='y')\n",
        "    plt.grid(True)\n",
        "    plt.show()\n",
        "\n",
        "\n",
        "except requests.exceptions.RequestException as e:\n",
        "    print(f\"API 호출 실패: {e}\")\n",
        "except json.JSONDecodeError as e:\n",
        "    print(f\"JSON 파싱 실패: {e}\")\n",
        "except Exception as e:\n",
        "    print(f\"예외 발생: {e}\")"
      ],
      "metadata": {
        "id": "rUInzTlqBlds",
        "outputId": "ba60c473-cf49-44f2-c4fe-6a94b8d24b4a",
        "colab": {
          "base_uri": "https://localhost:8080/",
          "height": 1000
        }
      },
      "execution_count": 23,
      "outputs": [
        {
          "output_type": "stream",
          "name": "stdout",
          "text": [
            "       연도   월      전기사용량         가스사용량         수도사용량       지역난방사용량  year  \\\n",
            "0    2015   1  193784708  5.913372e+07  1.281976e+07  2.274084e+07  2015   \n",
            "1    2015   2  189974230  5.648736e+07  1.265689e+07  1.879332e+07  2015   \n",
            "2    2015   3  175215719  4.998487e+07  1.265547e+07  1.382635e+07  2015   \n",
            "3    2015   4  183891769  3.730684e+07  1.295477e+07  5.836003e+06  2015   \n",
            "4    2015   5  177289769  2.206089e+07  1.308673e+07  1.320896e+06  2015   \n",
            "5    2015   6  186073153  1.267764e+07  1.424165e+07  2.943126e+05  2015   \n",
            "6    2015   7  165114568  8.893640e+06  1.208388e+07  7.028636e+05  2015   \n",
            "7    2015   8  242000479  7.619018e+06  1.516455e+07  4.602890e+05  2015   \n",
            "8    2015   9  207540868  6.518422e+06  1.441908e+07  3.057107e+05  2015   \n",
            "9    2015  10  186473958  8.924018e+06  1.471183e+07  3.167520e+06  2015   \n",
            "10   2015  11  196892030  2.032256e+07  1.369267e+07  1.121098e+07  2015   \n",
            "11   2015  12  203388142  4.009523e+07  1.390416e+07  2.110262e+07  2015   \n",
            "12   2016   1  215330620  5.764174e+07  1.321892e+07  2.718617e+07  2016   \n",
            "13   2016   2  216677664  6.887980e+07  1.331211e+07  2.145299e+07  2016   \n",
            "14   2016   3  203451798  6.001960e+07  1.319162e+07  1.407018e+07  2016   \n",
            "15   2016   4  202541336  4.037061e+07  1.374894e+07  4.556397e+06  2016   \n",
            "16   2016   5  195448592  2.307706e+07  1.376262e+07  1.166908e+06  2016   \n",
            "17   2016   6  205061790  1.334493e+07  1.454346e+07  3.406011e+05  2016   \n",
            "18   2016   7  226567751  9.641899e+06  1.468607e+07  8.983579e+04  2016   \n",
            "19   2016   8  303032015  8.324791e+06  1.544290e+07  2.730398e+04  2016   \n",
            "20   2016   9  241676328  7.030657e+06  1.523326e+07  2.597269e+06  2016   \n",
            "21   2016  10  197827666  1.012955e+07  1.517367e+07  2.142328e+06  2016   \n",
            "22   2016  11  204812090  2.391538e+07  7.215169e+06  1.086540e+07  2016   \n",
            "23   2016  12  212192127  4.691738e+07  1.441508e+07  1.755465e+07  2016   \n",
            "24   2017   1  222980440  6.178177e+07  1.407703e+07  2.056727e+07  2017   \n",
            "25   2017   2  226181991  7.353751e+07  1.372417e+07  1.773378e+07  2017   \n",
            "26   2017   3  208386870  6.429701e+07  1.359808e+07  1.147796e+07  2017   \n",
            "27   2017   4  214202199  4.505021e+07  1.269062e+07  4.466511e+06  2017   \n",
            "28   2017   5  209894672  2.510315e+07  1.295020e+07  1.980973e+07  2017   \n",
            "29   2017   6  211179181  1.431253e+07  1.362978e+07  2.358592e+05  2017   \n",
            "30   2017   7  255974689  1.008599e+07  1.378667e+07  4.099212e+04  2017   \n",
            "31   2017   8  297850172  8.429188e+06  1.429183e+07  1.189270e+05  2017   \n",
            "32   2017   9  232360099  8.981707e+06  1.384268e+07  1.279968e+06  2017   \n",
            "33   2017  10  202205893  1.191045e+07  1.381136e+07  2.177858e+06  2017   \n",
            "34   2017  11  215620132  2.604117e+07  1.326839e+07  1.229067e+07  2017   \n",
            "35   2017  12  228503347  5.946619e+07  1.324339e+07  2.181950e+07  2017   \n",
            "36   2018   1  208518118  8.225057e+07  1.099702e+07  1.526871e+07  2018   \n",
            "37   2018   2  243271752  8.849695e+07  1.290504e+07  2.267171e+07  2018   \n",
            "38   2018   3  219203768  7.342640e+07  1.276917e+07  1.092494e+07  2018   \n",
            "39   2018   4  222416406  4.256558e+07  1.328037e+07  5.017072e+06  2018   \n",
            "40   2018   5  213539965  2.923409e+07  1.318199e+07  1.375720e+06  2018   \n",
            "41   2018   6  222820943  1.713206e+07  1.405134e+07  2.858206e+05  2018   \n",
            "42   2018   7  269705511  1.125984e+07  1.433367e+07  2.584352e+07  2018   \n",
            "43   2018   8  393315950  8.166455e+06  1.495655e+07  1.585551e+04  2018   \n",
            "44   2018   9  267255459  7.210123e+06  1.470530e+07  1.927790e+05  2018   \n",
            "45   2018  10  217274530  1.410251e+07  1.472816e+07  4.137960e+06  2018   \n",
            "46   2018  11  227294230  3.123951e+07  1.370669e+07  1.027629e+07  2018   \n",
            "47   2018  12  238692561  5.401986e+07  1.373249e+07  2.042185e+07  2018   \n",
            "48   2019   1  253600219  8.030824e+07  1.344297e+07  2.196309e+07  2019   \n",
            "49   2019   2  244927344  8.190219e+07  1.349521e+07  1.061349e+08  2019   \n",
            "50   2019   3  223736787  6.514659e+07  1.316755e+07  1.319426e+07  2019   \n",
            "51   2019   4  232166121  4.939151e+07  1.375327e+07  7.858588e+06  2019   \n",
            "52   2019   5  221753919  3.137011e+07  1.361023e+07  1.442007e+06  2019   \n",
            "53   2019   6  226119779  1.577170e+07  1.422354e+07  3.316909e+05  2019   \n",
            "54   2019   7  257854441  1.070084e+07  1.445135e+07  9.689572e+05  2019   \n",
            "55   2019   8  342924356  8.884580e+06  1.511564e+07  1.476831e+05  2019   \n",
            "56   2019   9  275890739  8.397984e+06  1.447240e+07  2.292917e+06  2019   \n",
            "57   2019  10  228095713  1.187682e+07  1.480436e+07  2.590192e+06  2019   \n",
            "58   2019  11  231283724  2.483589e+07  1.412304e+07  1.498336e+07  2019   \n",
            "59   2019  12  244976724  5.450905e+07  1.418479e+07  2.355826e+07  2019   \n",
            "60   2020   1  258045023  7.454371e+07  1.373734e+07  2.487669e+07  2020   \n",
            "61   2020   2  254879033  7.636377e+07  1.405283e+07  2.084867e+07  2020   \n",
            "62   2020   3  244369714  6.436752e+07  1.384153e+07  1.419445e+07  2020   \n",
            "63   2020   4  247831442  4.837369e+07  1.461878e+07  8.499793e+06  2020   \n",
            "64   2020   5  237473019  3.356497e+07  1.467951e+07  3.702574e+06  2020   \n",
            "65   2020   6  255905483  1.813278e+07  1.524028e+07  7.059484e+05  2020   \n",
            "66   2020   7  267363208  1.070896e+07  1.503368e+07  2.161795e+07  2020   \n",
            "67   2020   8  320723239  1.017743e+07  1.560010e+07  2.868147e+05  2020   \n",
            "68   2020   9  309166830  8.026967e+06  1.523250e+07  3.016303e+05  2020   \n",
            "69   2020  10  239397195  1.632288e+07  1.564105e+07  4.581074e+06  2020   \n",
            "70   2020  11  247308528  3.009568e+07  1.483501e+07  1.288274e+07  2020   \n",
            "71   2020  12  265370372  5.109572e+07  1.503655e+07  2.651297e+07  2020   \n",
            "72   2021   1  287882528  8.095542e+07  1.427311e+07  3.106971e+07  2021   \n",
            "73   2021   2  271224712  8.558177e+07  1.367994e+07  2.223810e+07  2021   \n",
            "74   2021   3  243868926  6.736370e+07  1.426378e+07  1.252883e+07  2021   \n",
            "75   2021   4  248131327  4.359103e+07  1.457069e+07  5.220679e+06  2021   \n",
            "76   2021   5  241741576  2.463840e+07  1.431246e+07  2.246730e+06  2021   \n",
            "77   2021   6  254958704  1.889888e+07  1.517479e+07  3.969033e+05  2021   \n",
            "78   2021   7  334733756  9.631171e+06  1.661911e+07  5.529269e+06  2021   \n",
            "79   2021   8  409719040  1.020507e+07  1.573799e+07  1.276078e+05  2021   \n",
            "80   2021   9  290606638  6.602872e+06  1.549778e+07  1.590661e+05  2021   \n",
            "81   2021  10  253845816  1.384016e+07  1.593064e+07  4.220986e+06  2021   \n",
            "82   2021  11  255516339  2.857117e+07  1.497505e+07  1.346370e+07  2021   \n",
            "83   2021  12  265314948  5.465132e+07  1.487373e+07  2.598975e+07  2021   \n",
            "84   2022   1  286037593  8.060600e+07  1.430301e+07  3.032024e+07  2022   \n",
            "85   2022   2  279071999  9.000496e+07  1.443716e+07  2.761597e+07  2022   \n",
            "86   2022   3  256771728  7.557772e+07  1.418129e+07  1.584382e+07  2022   \n",
            "87   2022   4  255028242  4.984392e+07  1.444306e+07  5.725570e+06  2022   \n",
            "88   2022   5  238866649  2.818556e+07  1.434424e+07  1.457446e+06  2022   \n",
            "89   2022   6  254486733  1.546802e+07  1.508746e+07  8.385400e+05  2022   \n",
            "90   2022   7  336383318  1.070200e+07  1.490720e+07  5.003383e+04  2022   \n",
            "91   2022   8  382965547  8.718677e+06  1.555593e+07  3.278813e+06  2022   \n",
            "92   2022   9  294121752  9.220605e+06  1.501654e+07  7.221052e+06  2022   \n",
            "93   2022  10  250724946  1.380307e+07  1.498392e+07  5.216711e+06  2022   \n",
            "94   2022  11  252081207  2.847190e+07  1.448524e+07  1.068594e+07  2022   \n",
            "95   2022  12  266989892  5.223060e+07  1.453874e+07  3.165549e+07  2022   \n",
            "96   2023   1  286485085  8.252906e+07  1.446614e+07  2.966821e+07  2023   \n",
            "97   2023   2  272702468  8.285194e+07  1.451601e+07  2.032009e+07  2023   \n",
            "98   2023   3  243877178  6.265634e+07  1.350631e+07  1.051667e+07  2023   \n",
            "99   2023   4  247142965  3.848423e+07  1.395188e+07  4.292056e+06  2023   \n",
            "100  2023   5  241448830  2.560170e+07  1.392858e+07  1.354710e+06  2023   \n",
            "101  2023   6  259143276  1.474281e+07  1.482213e+07  1.169879e+06  2023   \n",
            "102  2023   7  328201532  9.760384e+06  1.467362e+07  2.659009e+06  2023   \n",
            "103  2023   8  407479395  8.486915e+06  1.540240e+07  5.301250e+05  2023   \n",
            "104  2023   9  332452167  7.674573e+06  1.494165e+07  1.945719e+07  2023   \n",
            "105  2023  10  255560826  1.127380e+07  1.491862e+07  3.049594e+06  2023   \n",
            "106  2023  11  255362764  2.374974e+07  1.443921e+07  1.322546e+07  2023   \n",
            "107  2023  12  271015225  4.756020e+07  1.451993e+07  2.416925e+07  2023   \n",
            "108  2024   1  290223476  6.560893e+07  1.411934e+07  2.675960e+07  2024   \n",
            "109  2024   2  280810330  6.518444e+07  1.424730e+07  1.869697e+07  2024   \n",
            "110  2024   3  259332255  5.856338e+07  1.379244e+07  1.345571e+07  2024   \n",
            "111  2024   4  256332884  3.578632e+07  1.433025e+07  3.099650e+06  2024   \n",
            "112  2024   5  244740675  1.807703e+07  1.415814e+07  2.833320e+07  2024   \n",
            "113  2024   6  270158916  1.190307e+07  1.496608e+07  2.022685e+07  2024   \n",
            "114  2024   7  340000663  8.319412e+06  1.499294e+07  2.173042e+06  2024   \n",
            "115  2024   8  463971328  7.072251e+06  1.587354e+07  1.300823e+05  2024   \n",
            "116  2024   9  409872908  5.729131e+06  1.514332e+07  3.420507e+06  2024   \n",
            "117  2024  10  282268119  8.233421e+06  1.529767e+07  2.695491e+06  2024   \n",
            "118  2024  11  257927956  1.741822e+07  1.467867e+07  8.836296e+06  2024   \n",
            "119  2024  12  134828126  4.210342e+07  7.326854e+06  1.513199e+06  2024   \n",
            "\n",
            "    season          총사용량  \n",
            "0       겨울  2.884790e+08  \n",
            "1       겨울  2.779118e+08  \n",
            "2        봄  2.516824e+08  \n",
            "3        봄  2.399894e+08  \n",
            "4        봄  2.137583e+08  \n",
            "5       여름  2.132868e+08  \n",
            "6       여름  1.867950e+08  \n",
            "7       여름  2.652443e+08  \n",
            "8       가을  2.287841e+08  \n",
            "9       가을  2.132773e+08  \n",
            "10      가을  2.421182e+08  \n",
            "11      겨울  2.784902e+08  \n",
            "12      겨울  3.133774e+08  \n",
            "13      겨울  3.203226e+08  \n",
            "14       봄  2.907332e+08  \n",
            "15       봄  2.612173e+08  \n",
            "16       봄  2.334552e+08  \n",
            "17      여름  2.332908e+08  \n",
            "18      여름  2.509856e+08  \n",
            "19      여름  3.268270e+08  \n",
            "20      가을  2.665375e+08  \n",
            "21      가을  2.252732e+08  \n",
            "22      가을  2.468080e+08  \n",
            "23      겨울  2.910792e+08  \n",
            "24      겨울  3.194065e+08  \n",
            "25      겨울  3.311775e+08  \n",
            "26       봄  2.977599e+08  \n",
            "27       봄  2.764095e+08  \n",
            "28       봄  2.677578e+08  \n",
            "29      여름  2.393574e+08  \n",
            "30      여름  2.798883e+08  \n",
            "31      여름  3.206901e+08  \n",
            "32      가을  2.564644e+08  \n",
            "33      가을  2.301056e+08  \n",
            "34      가을  2.672204e+08  \n",
            "35      겨울  3.230324e+08  \n",
            "36      겨울  3.170344e+08  \n",
            "37      겨울  3.673455e+08  \n",
            "38       봄  3.163243e+08  \n",
            "39       봄  2.832794e+08  \n",
            "40       봄  2.573318e+08  \n",
            "41      여름  2.542902e+08  \n",
            "42      여름  3.211425e+08  \n",
            "43      여름  4.164548e+08  \n",
            "44      가을  2.893637e+08  \n",
            "45      가을  2.502432e+08  \n",
            "46      가을  2.825167e+08  \n",
            "47      겨울  3.268668e+08  \n",
            "48      겨울  3.693145e+08  \n",
            "49      겨울  4.464597e+08  \n",
            "50       봄  3.152452e+08  \n",
            "51       봄  3.031695e+08  \n",
            "52       봄  2.681763e+08  \n",
            "53      여름  2.564467e+08  \n",
            "54      여름  2.839756e+08  \n",
            "55      여름  3.670723e+08  \n",
            "56      가을  3.010540e+08  \n",
            "57      가을  2.573671e+08  \n",
            "58      가을  2.852260e+08  \n",
            "59      겨울  3.372288e+08  \n",
            "60      겨울  3.712028e+08  \n",
            "61      겨울  3.661443e+08  \n",
            "62       봄  3.367732e+08  \n",
            "63       봄  3.193237e+08  \n",
            "64       봄  2.894201e+08  \n",
            "65      여름  2.899845e+08  \n",
            "66      여름  3.147238e+08  \n",
            "67      여름  3.467876e+08  \n",
            "68      가을  3.327279e+08  \n",
            "69      가을  2.759422e+08  \n",
            "70      가을  3.051220e+08  \n",
            "71      겨울  3.580156e+08  \n",
            "72      겨울  4.141808e+08  \n",
            "73      겨울  3.927245e+08  \n",
            "74       봄  3.380252e+08  \n",
            "75       봄  3.115137e+08  \n",
            "76       봄  2.829392e+08  \n",
            "77      여름  2.894293e+08  \n",
            "78      여름  3.665133e+08  \n",
            "79      여름  4.357897e+08  \n",
            "80      가을  3.128664e+08  \n",
            "81      가을  2.878376e+08  \n",
            "82      가을  3.125263e+08  \n",
            "83      겨울  3.608297e+08  \n",
            "84      겨울  4.112668e+08  \n",
            "85      겨울  4.111301e+08  \n",
            "86       봄  3.623746e+08  \n",
            "87       봄  3.250408e+08  \n",
            "88       봄  2.828539e+08  \n",
            "89      여름  2.858808e+08  \n",
            "90      여름  3.620425e+08  \n",
            "91      여름  4.105190e+08  \n",
            "92      가을  3.255800e+08  \n",
            "93      가을  2.847286e+08  \n",
            "94      가을  3.057243e+08  \n",
            "95      겨울  3.654147e+08  \n",
            "96      겨울  4.131485e+08  \n",
            "97      겨울  3.903905e+08  \n",
            "98       봄  3.305565e+08  \n",
            "99       봄  3.038711e+08  \n",
            "100      봄  2.823338e+08  \n",
            "101     여름  2.898781e+08  \n",
            "102     여름  3.552945e+08  \n",
            "103     여름  4.318988e+08  \n",
            "104     가을  3.745256e+08  \n",
            "105     가을  2.848028e+08  \n",
            "106     가을  3.067772e+08  \n",
            "107     겨울  3.572646e+08  \n",
            "108     겨울  3.967113e+08  \n",
            "109     겨울  3.789390e+08  \n",
            "110      봄  3.451438e+08  \n",
            "111      봄  3.095491e+08  \n",
            "112      봄  3.053090e+08  \n",
            "113     여름  3.172549e+08  \n",
            "114     여름  3.654861e+08  \n",
            "115     여름  4.870472e+08  \n",
            "116     가을  4.341659e+08  \n",
            "117     가을  3.084947e+08  \n",
            "118     가을  2.988611e+08  \n",
            "119     겨울  1.857716e+08  \n",
            "   year          총사용량\n",
            "0  2015  2.899817e+09\n",
            "1  2016  3.259907e+09\n",
            "2  2017  3.409270e+09\n",
            "3  2018  3.682193e+09\n",
            "4  2019  3.790736e+09\n",
            "5  2020  3.906168e+09\n",
            "6  2021  4.105176e+09\n",
            "7  2022  4.132556e+09\n",
            "8  2023  4.120742e+09\n",
            "9  2024  4.132734e+09\n"
          ]
        },
        {
          "output_type": "display_data",
          "data": {
            "text/plain": [
              "<Figure size 1200x600 with 1 Axes>"
            ],
            "image/png": "[encoded data removed]"
          },
          "metadata": {}
        }
      ]
    },
    {
      "cell_type": "code",
      "source": [
        "import requests\n",
        "import json\n",
        "import pandas as pd\n",
        "import matplotlib.pyplot as plt\n",
        "\n",
        "API_KEY = ''\n",
        "energy_data = []\n",
        "\n",
        "\n",
        "def get_year_month():\n",
        "    year_month = []\n",
        "    for year in range(2015, 2024+1):\n",
        "        for month in range(1, 12+1):\n",
        "            year_month.append((year, f'{month:02d}'))\n",
        "    return year_month\n",
        "\n",
        "\n",
        "try:\n",
        "    for year, month in get_year_month():\n",
        "        url = f'http://openapi.seoul.go.kr:8088/{API_KEY}/json/energyUseDataSummaryInfo/1/100/{year}/{month}'\n",
        "\n",
        "        response = requests.get(url)\n",
        "        response.raise_for_status()\n",
        "\n",
        "        data = response.json()\n",
        "        data_rows = data['energyUseDataSummaryInfo']['row']\n",
        "\n",
        "        for row in data_rows:\n",
        "            if row['MM_TYPE'] != '개인':\n",
        "                continue\n",
        "\n",
        "            record = {\n",
        "                '연도': row['YEAR'],\n",
        "                '월': row['MON'],\n",
        "                '전기사용량': row['EUS'],\n",
        "                '가스사용량': row['GUS'],\n",
        "                '수도사용량': row['WUS'],\n",
        "                '지역난방사용량': row['HUS']\n",
        "            }\n",
        "            energy_data.append(record)\n",
        "\n",
        "    df = pd.DataFrame(energy_data)\n",
        "\n",
        "    ym_cols = ['연도', '월']\n",
        "    usage_cols = ['전기사용량', '가스사용량', '수도사용량', '지역난방사용량']\n",
        "    df[ym_cols] = df[ym_cols].apply(pd.to_numeric, errors='coerce')\n",
        "    df[usage_cols] = df[usage_cols].apply(pd.to_numeric, errors='coerce')\n",
        "\n",
        "    df['year'] = df['연도']\n",
        "    df['season'] = df['월'].apply(lambda x: '겨울' if x <= 2 or x == 12 else\n",
        "                                            '봄' if 3 <= x <= 5 else\n",
        "                                            '여름' if 6 <= x <= 8 else\n",
        "                                            '가을' if 9 <= x <= 11 else\n",
        "                                            None)\n",
        "\n",
        "    total_season = df.groupby('season')['가스사용량'].mean().reset_index()\n",
        "\n",
        "    plt.rc('font', family='NanumBarunGothic')\n",
        "    plt.figure(figsize=(12, 6))\n",
        "    plt.bar(total_season['season'], total_season['가스사용량'])\n",
        "    plt.title(\"계졀별 가스 사용량 평균 - 4538\")\n",
        "    plt.xlabel(\"계절\")\n",
        "    plt.ylabel(\"가스 사용량 평균\")\n",
        "    plt.ticklabel_format(style='plain', axis='y')\n",
        "\n",
        "    for season in range(len(total_season)):\n",
        "        value = total_season.loc[season, '가스사용량']\n",
        "        plt.text(season, value, str(value), ha='center')\n",
        "\n",
        "    plt.show()\n",
        "\n",
        "\n",
        "except requests.exceptions.RequestException as e:\n",
        "    print(f\"API 호출 실패: {e}\")\n",
        "except json.JSONDecodeError as e:\n",
        "    print(f\"JSON 파싱 실패: {e}\")\n",
        "except Exception as e:\n",
        "    print(f\"예외 발생: {e}\")"
      ],
      "metadata": {
        "id": "pbmgMdt5eNH_",
        "outputId": "f4206595-f95b-4d2e-8d42-eca9c1015f7a",
        "colab": {
          "base_uri": "https://localhost:8080/",
          "height": 563
        }
      },
      "execution_count": 24,
      "outputs": [
        {
          "output_type": "display_data",
          "data": {
            "text/plain": [
              "<Figure size 1200x600 with 1 Axes>"
            ],
            "image/png": "[encoded data removed]"
          },
          "metadata": {}
        }
      ]
    },
    {
      "cell_type": "code",
      "source": [
        "import requests\n",
        "import json\n",
        "import pandas as pd\n",
        "\n",
        "API_KEY = ''\n",
        "energy_data = []\n",
        "\n",
        "def get_year_month():\n",
        "    year_month = []\n",
        "    for year in range(2015, 2024+1):\n",
        "        for month in range(1, 12+1):\n",
        "            year_month.append((year, f'{month:02d}'))\n",
        "    return year_month\n",
        "\n",
        "try:\n",
        "    for year, month in get_year_month():\n",
        "        url = f'http://openapi.seoul.go.kr:8088/{API_KEY}/json/energyUseDataSummaryInfo/1/100/{year}/{month}'\n",
        "\n",
        "        response = requests.get(url)\n",
        "        response.raise_for_status()\n",
        "\n",
        "        data = response.json()\n",
        "        data_rows = data['energyUseDataSummaryInfo']['row']\n",
        "\n",
        "        for row in data_rows:\n",
        "            if row['MM_TYPE'] != '개인':\n",
        "                continue\n",
        "\n",
        "            record = {\n",
        "                '연도': row['YEAR'],\n",
        "                '월': row['MON'],\n",
        "                '전기사용량': row['EUS'],\n",
        "                '가스사용량': row['GUS'],\n",
        "                '수도사용량': row['WUS'],\n",
        "                '지역난방사용량': row['HUS']\n",
        "            }\n",
        "            energy_data.append(record)\n",
        "\n",
        "    df = pd.DataFrame(energy_data)\n",
        "\n",
        "    ym_cols = ['연도', '월']\n",
        "    usage_cols = ['전기사용량', '가스사용량', '수도사용량', '지역난방사용량']\n",
        "    df[ym_cols] = df[ym_cols].apply(pd.to_numeric, errors='coerce')\n",
        "    df[usage_cols] = df[usage_cols].apply(pd.to_numeric, errors='coerce')\n",
        "\n",
        "    df['year'] = df['연도']\n",
        "    df['season'] = df['월'].apply(lambda x: '겨울' if x <= 2 or x == 12 else\n",
        "                                            '봄' if 3 <= x <= 5 else\n",
        "                                            '여름' if 6 <= x <= 8 else\n",
        "                                            '가을' if 9 <= x <= 11 else\n",
        "                                            None)\n",
        "\n",
        "    print(df.head())\n",
        "\n",
        "except requests.exceptions.RequestException as e:\n",
        "    print(f\"API 호출 실패: {e}\")\n",
        "except json.JSONDecodeError as e:\n",
        "    print(f\"JSON 파싱 실패: {e}\")\n",
        "except Exception as e:\n",
        "    print(f\"예외 발생: {e}\")\n"
      ],
      "metadata": {
        "id": "s_nGtgpHpkQO",
        "outputId": "8704736b-1898-4d50-b204-f059972286db",
        "colab": {
          "base_uri": "https://localhost:8080/"
        }
      },
      "execution_count": 8,
      "outputs": [
        {
          "output_type": "stream",
          "name": "stdout",
          "text": [
            "     연도  월      전기사용량       가스사용량         수도사용량       지역난방사용량  year season\n",
            "0  2015  1  193784708  59133720.0  1.281976e+07  2.274084e+07  2015     겨울\n",
            "1  2015  2  189974230  56487358.0  1.265689e+07  1.879332e+07  2015     겨울\n",
            "2  2015  3  175215719  49984873.0  1.265547e+07  1.382635e+07  2015      봄\n",
            "3  2015  4  183891769  37306841.0  1.295477e+07  5.836003e+06  2015      봄\n",
            "4  2015  5  177289769  22060892.0  1.308673e+07  1.320896e+06  2015      봄\n"
          ]
        }
      ]
    },
    {
      "cell_type": "code",
      "source": [
        "import requests\n",
        "import json\n",
        "\n",
        "API_KEY = ''\n",
        "energy_data = []\n",
        "\n",
        "def get_year_month():\n",
        "    year_month = []\n",
        "    for year in range(2015, 2024+1):\n",
        "        for month in range(1, 12+1):\n",
        "            year_month.append((year, f'{month:02d}'))\n",
        "    return year_month\n",
        "\n",
        "try:\n",
        "    for year, month in get_year_month():\n",
        "        url = f'http://openapi.seoul.go.kr:8088/{API_KEY}/json/energyUseDataSummaryInfo/1/100/{year}/{month}'\n",
        "\n",
        "        response = requests.get(url)\n",
        "        response.raise_for_status()\n",
        "\n",
        "        data = response.json()\n",
        "        data_rows = data['energyUseDataSummaryInfo']['row']\n",
        "\n",
        "        for row in data_rows:\n",
        "            if row['MM_TYPE'] != '개인':\n",
        "                continue\n",
        "\n",
        "            record = {\n",
        "                '연도': row['YEAR'],\n",
        "                '월': row['MON'],\n",
        "                '전기사용량': row['EUS'],\n",
        "                '가스사용량': row['GUS'],\n",
        "                '수도사용량': row['WUS'],\n",
        "                '지역난방사용량': row['HUS']\n",
        "            }\n",
        "            energy_data.append(record)\n",
        "\n",
        "    df = pd.DataFrame(energy_data)\n",
        "\n",
        "    ym_cols = ['연도', '월']\n",
        "    usage_cols = ['전기사용량', '가스사용량', '수도사용량', '지역난방사용량']\n",
        "    df[ym_cols] = df[ym_cols].apply(pd.to_numeric, errors='coerce')\n",
        "    df[usage_cols] = df[usage_cols].apply(pd.to_numeric, errors='coerce')\n",
        "\n",
        "    df['year'] = df['연도']\n",
        "    df['season'] = df['월'].apply(lambda x: '겨울' if x <= 2 or x == 12 else\n",
        "                                            '봄' if 3 <= x <= 5 else\n",
        "                                            '여름' if 6 <= x <= 8 else\n",
        "                                            '가을' if 9 <= x <= 11 else\n",
        "                                            None)\n",
        "    print(df.head(20))\n",
        "\n",
        "except requests.exceptions.RequestException as e:\n",
        "    print(f\"API 호출 실패: {e}\")\n",
        "except json.JSONDecodeError as e:\n",
        "    print(f\"JSON 파싱 실패: {e}\")\n",
        "except Exception as e:\n",
        "    print(f\"예외 발생: {e}\")\n"
      ],
      "metadata": {
        "id": "FvL25ma1Czva",
        "outputId": "299d161d-2c92-427f-84e6-8a4b8aadc041",
        "colab": {
          "base_uri": "https://localhost:8080/"
        }
      },
      "execution_count": 22,
      "outputs": [
        {
          "output_type": "stream",
          "name": "stdout",
          "text": [
            "      연도   월      전기사용량       가스사용량         수도사용량       지역난방사용량  year season\n",
            "0   2015   1  193784708  59133720.0  1.281976e+07  2.274084e+07  2015     겨울\n",
            "1   2015   2  189974230  56487358.0  1.265689e+07  1.879332e+07  2015     겨울\n",
            "2   2015   3  175215719  49984873.0  1.265547e+07  1.382635e+07  2015      봄\n",
            "3   2015   4  183891769  37306841.0  1.295477e+07  5.836003e+06  2015      봄\n",
            "4   2015   5  177289769  22060892.0  1.308673e+07  1.320896e+06  2015      봄\n",
            "5   2015   6  186073153  12677645.0  1.424165e+07  2.943126e+05  2015     여름\n",
            "6   2015   7  165114568   8893640.0  1.208388e+07  7.028636e+05  2015     여름\n",
            "7   2015   8  242000479   7619018.0  1.516455e+07  4.602890e+05  2015     여름\n",
            "8   2015   9  207540868   6518422.0  1.441908e+07  3.057107e+05  2015     가을\n",
            "9   2015  10  186473958   8924018.0  1.471183e+07  3.167520e+06  2015     가을\n",
            "10  2015  11  196892030  20322557.0  1.369267e+07  1.121098e+07  2015     가을\n",
            "11  2015  12  203388142  40095231.0  1.390416e+07  2.110262e+07  2015     겨울\n",
            "12  2016   1  215330620  57641741.0  1.321892e+07  2.718617e+07  2016     겨울\n",
            "13  2016   2  216677664  68879796.0  1.331211e+07  2.145299e+07  2016     겨울\n",
            "14  2016   3  203451798  60019600.0  1.319162e+07  1.407018e+07  2016      봄\n",
            "15  2016   4  202541336  40370608.0  1.374894e+07  4.556397e+06  2016      봄\n",
            "16  2016   5  195448592  23077064.0  1.376262e+07  1.166908e+06  2016      봄\n",
            "17  2016   6  205061790  13344932.0  1.454346e+07  3.406011e+05  2016     여름\n",
            "18  2016   7  226567751   9641899.0  1.468607e+07  8.983579e+04  2016     여름\n",
            "19  2016   8  303032015   8324791.0  1.544290e+07  2.730398e+04  2016     여름\n"
          ]
        }
      ]
    }
  ]
}